{
  "nbformat": 4,
  "nbformat_minor": 0,
  "metadata": {
    "colab": {
      "name": "ProjetoFinalPySparkc_A.ipynb",
      "provenance": [],
      "collapsed_sections": []
    },
    "kernelspec": {
      "display_name": "Python 3",
      "name": "python3"
    },
    "language_info": {
      "name": "python"
    }
  },
  "cells": [
    {
      "cell_type": "markdown",
      "metadata": {
        "id": "Q2lRMDjPD6Vk"
      },
      "source": [
        "Trabalhando com os dois arquivos Netfix e Amazon\n",
        "\n",
        "**AMAZON**"
      ]
    },
    {
      "cell_type": "code",
      "metadata": {
        "colab": {
          "base_uri": "https://localhost:8080/"
        },
        "id": "NUtyiEMxX5_y",
        "outputId": "6a25652f-fae3-4ab1-946f-3ca2310600df"
      },
      "source": [
        "!pip install pyspark"
      ],
      "execution_count": null,
      "outputs": [
        {
          "output_type": "stream",
          "name": "stdout",
          "text": [
            "Collecting pyspark\n",
            "  Downloading pyspark-3.2.0.tar.gz (281.3 MB)\n",
            "\u001b[K     |████████████████████████████████| 281.3 MB 37 kB/s \n",
            "\u001b[?25hCollecting py4j==0.10.9.2\n",
            "  Downloading py4j-0.10.9.2-py2.py3-none-any.whl (198 kB)\n",
            "\u001b[K     |████████████████████████████████| 198 kB 42.6 MB/s \n",
            "\u001b[?25hBuilding wheels for collected packages: pyspark\n",
            "  Building wheel for pyspark (setup.py) ... \u001b[?25l\u001b[?25hdone\n",
            "  Created wheel for pyspark: filename=pyspark-3.2.0-py2.py3-none-any.whl size=281805912 sha256=2762967e6ef3f44aee55572529c51a10bcccccf873ebe14eb8a592ca07e86081\n",
            "  Stored in directory: /root/.cache/pip/wheels/0b/de/d2/9be5d59d7331c6c2a7c1b6d1a4f463ce107332b1ecd4e80718\n",
            "Successfully built pyspark\n",
            "Installing collected packages: py4j, pyspark\n",
            "Successfully installed py4j-0.10.9.2 pyspark-3.2.0\n"
          ]
        }
      ]
    },
    {
      "cell_type": "code",
      "metadata": {
        "id": "j8F_U5CHX_MU"
      },
      "source": [
        "from pyspark.sql import SparkSession\n",
        "import pyspark.sql.functions as F\n",
        "from pyspark.sql.types import StructType, StructField, StringType, IntegerType\n",
        "from pyspark.sql.window import Window\n",
        "import matplotlib\n",
        "import matplotlib.pyplot as plt\n",
        "import pandas as pd\n"
      ],
      "execution_count": null,
      "outputs": []
    },
    {
      "cell_type": "code",
      "metadata": {
        "id": "EfLhjj0VYP8r"
      },
      "source": [
        "spark = (\n",
        "    SparkSession.builder\n",
        "      .master('local')\n",
        "      .appName('dataframe_withcolumn')\n",
        "      .config('spark.ui.port', '4050')\n",
        "      .getOrCreate()\n",
        ")"
      ],
      "execution_count": null,
      "outputs": []
    },
    {
      "cell_type": "markdown",
      "metadata": {
        "id": "5UGCN7XXxpBK"
      },
      "source": [
        "Definindo esquema de cabeçalho e configurações da tabela"
      ]
    },
    {
      "cell_type": "code",
      "metadata": {
        "id": "EUIVdFkQYSML"
      },
      "source": [
        "esquema = [\"id\", \"tipo\", \"titulo\", \"país\", \"data_adicionado\",\"ano_lancamento\",\"classificacao\",\"duracao\",\"genero\"]\n",
        "amazon_df = (spark\n",
        "       .read\n",
        "       .format(\"csv\")\n",
        "       .option(\"header\", \"true\")\n",
        "       .option(\"inferschema\", \"True\")\n",
        "       .option(\"delimiter\", \",\")\n",
        "       .load(r\"/content/ProjetoFinal_12/Amazon2021_tratado1_(8).csv\").toDF(*esquema)\n",
        "       )"
      ],
      "execution_count": null,
      "outputs": []
    },
    {
      "cell_type": "code",
      "metadata": {
        "colab": {
          "base_uri": "https://localhost:8080/",
          "height": 221
        },
        "id": "t5SN9ZTNJmnG",
        "outputId": "74f4d5ec-01ba-4b76-c806-2206fd27a371"
      },
      "source": [
        "spark"
      ],
      "execution_count": null,
      "outputs": [
        {
          "output_type": "execute_result",
          "data": {
            "text/html": [
              "\n",
              "            <div>\n",
              "                <p><b>SparkSession - in-memory</b></p>\n",
              "                \n",
              "        <div>\n",
              "            <p><b>SparkContext</b></p>\n",
              "\n",
              "            <p><a href=\"http://ccefd5390d45:4050\">Spark UI</a></p>\n",
              "\n",
              "            <dl>\n",
              "              <dt>Version</dt>\n",
              "                <dd><code>v3.2.0</code></dd>\n",
              "              <dt>Master</dt>\n",
              "                <dd><code>local</code></dd>\n",
              "              <dt>AppName</dt>\n",
              "                <dd><code>dataframe_withcolumn</code></dd>\n",
              "            </dl>\n",
              "        </div>\n",
              "        \n",
              "            </div>\n",
              "        "
            ],
            "text/plain": [
              "<pyspark.sql.session.SparkSession at 0x7f3cbaf64090>"
            ]
          },
          "metadata": {},
          "execution_count": 11
        }
      ]
    },
    {
      "cell_type": "code",
      "metadata": {
        "colab": {
          "base_uri": "https://localhost:8080/"
        },
        "id": "lz_WpBiDYY5z",
        "outputId": "ce2c58f5-3370-47d9-9779-195476f891e2"
      },
      "source": [
        "amazon_df.printSchema()"
      ],
      "execution_count": null,
      "outputs": [
        {
          "output_type": "stream",
          "name": "stdout",
          "text": [
            "root\n",
            " |-- id: string (nullable = true)\n",
            " |-- tipo: string (nullable = true)\n",
            " |-- titulo: string (nullable = true)\n",
            " |-- país: string (nullable = true)\n",
            " |-- data_adicionado: string (nullable = true)\n",
            " |-- ano_lancamento: integer (nullable = true)\n",
            " |-- classificacao: string (nullable = true)\n",
            " |-- duracao: string (nullable = true)\n",
            " |-- genero: string (nullable = true)\n",
            "\n"
          ]
        }
      ]
    },
    {
      "cell_type": "code",
      "metadata": {
        "colab": {
          "base_uri": "https://localhost:8080/"
        },
        "id": "ct8tvgnHDIrr",
        "outputId": "bab1e70c-c68e-444d-f912-ce8265bc1a5c"
      },
      "source": [
        "amazon_df.show(10)"
      ],
      "execution_count": null,
      "outputs": [
        {
          "output_type": "stream",
          "name": "stdout",
          "text": [
            "+---+-----+--------------------+--------------+---------------+--------------+-------------+-------+--------------------+\n",
            "| id| tipo|              titulo|          país|data_adicionado|ano_lancamento|classificacao|duracao|              genero|\n",
            "+---+-----+--------------------+--------------+---------------+--------------+-------------+-------+--------------------+\n",
            "| s1|Filme|    A Grande Sedução|        Canada|     2021-03-30|          2014| Nao avaliado|113 min|      Comedia, Drama|\n",
            "| s2|Filme|  Cuide da boa noite|         India|     2021-03-30|          2018|          13+|110 min|Drama, Internacional|\n",
            "| s3|Filme|Segredos da Decepção|Estados Unidos|     2021-03-30|          2017| Nao avaliado| 74 min|Acao, Drama, Susp...|\n",
            "| s4|Filme|Rosa: Mantendo-se...|Estados Unidos|     2021-03-30|          2014| Nao avaliado| 69 min|        Documentario|\n",
            "| s5|Filme| Criador de Monstros|   Reino Unido|     2021-03-30|          1989| Nao avaliado| 45 min|     Drama, Fantasia|\n",
            "| s6|Filme|Living With Dinos...|   Reino Unido|     2021-03-30|          1989| Nao avaliado| 52 min|  Fantasia, Infantil|\n",
            "| s7|Filme|           Hired Gun|Estados Unidos|     2021-03-30|          2017| Nao avaliado| 98 min|Documentario, Con...|\n",
            "| s8|Filme|        Grease Live!|Estados Unidos|     2021-03-30|          2016| Nao avaliado|131 min|             Comedia|\n",
            "| s9|Filme|     Global Meltdown|        Canada|     2021-03-30|          2017| Nao avaliado| 87 min|Acao, Ficcao Cien...|\n",
            "|s10|Filme|      David's Mother|Estados Unidos|     2021-04-01|          1994| Nao avaliado| 92 min|               Drama|\n",
            "+---+-----+--------------------+--------------+---------------+--------------+-------------+-------+--------------------+\n",
            "only showing top 10 rows\n",
            "\n"
          ]
        }
      ]
    },
    {
      "cell_type": "markdown",
      "metadata": {
        "id": "UhUIUcq2Cma3"
      },
      "source": [
        "\n",
        " A Amazon Prime disponibiliza aproximadamente 10000 itens, sendo que destes podemos observar\n",
        "\n",
        " Quantos filmes e quantas Séries a Amazon disponibiliza"
      ]
    },
    {
      "cell_type": "code",
      "metadata": {
        "colab": {
          "base_uri": "https://localhost:8080/"
        },
        "id": "Q43elmvFuFBb",
        "outputId": "14518c2a-6fa3-4e24-accd-04a03f9f9373"
      },
      "source": [
        "amazon_df.groupby(F.col(\"tipo\")).count().show()"
      ],
      "execution_count": null,
      "outputs": [
        {
          "output_type": "stream",
          "name": "stdout",
          "text": [
            "+-----+-----+\n",
            "| tipo|count|\n",
            "+-----+-----+\n",
            "|Serie| 1854|\n",
            "|Filme| 7814|\n",
            "+-----+-----+\n",
            "\n"
          ]
        }
      ]
    },
    {
      "cell_type": "markdown",
      "metadata": {
        "id": "kTEm15_T_IGn"
      },
      "source": [
        "Separamos os dados que dizem respeito ao público Infantil"
      ]
    },
    {
      "cell_type": "code",
      "metadata": {
        "id": "y8lZW7ZOQyVU"
      },
      "source": [
        "dfinfantil = amazon_df.filter(F.col('classificacao')=='Infantil')"
      ],
      "execution_count": null,
      "outputs": []
    },
    {
      "cell_type": "markdown",
      "metadata": {
        "id": "yqyFDdnjo3nO"
      },
      "source": [
        "Separamos os dados que correspondem ao público adulto"
      ]
    },
    {
      "cell_type": "code",
      "metadata": {
        "id": "UlyRM_R2yB3S"
      },
      "source": [
        "dfadultos = amazon_df.filter(F.col('classificacao')=='18+')"
      ],
      "execution_count": null,
      "outputs": []
    },
    {
      "cell_type": "markdown",
      "metadata": {
        "id": "BFpBHv4N_r18"
      },
      "source": [
        "Mostra quantos lançamentos teve em cada ano   Demonstrando um aumento grande na produção ou disponibilização de novos filmes."
      ]
    },
    {
      "cell_type": "code",
      "metadata": {
        "colab": {
          "base_uri": "https://localhost:8080/"
        },
        "id": "3KOrH1HGX5ip",
        "outputId": "7fe894b0-0e0b-4ba1-c4f5-75313cb5fc8f"
      },
      "source": [
        "maislanc=amazon_df.groupby(F.col('ano_lancamento')).count().orderBy(F.col('ano_lancamento')).show()"
      ],
      "execution_count": null,
      "outputs": [
        {
          "output_type": "stream",
          "name": "stdout",
          "text": [
            "+--------------+-----+\n",
            "|ano_lancamento|count|\n",
            "+--------------+-----+\n",
            "|          1920|    3|\n",
            "|          1922|    2|\n",
            "|          1923|    1|\n",
            "|          1924|    1|\n",
            "|          1925|    8|\n",
            "|          1926|    2|\n",
            "|          1927|    1|\n",
            "|          1929|    4|\n",
            "|          1930|    5|\n",
            "|          1931|    3|\n",
            "|          1932|    8|\n",
            "|          1933|    5|\n",
            "|          1934|   12|\n",
            "|          1935|   15|\n",
            "|          1936|   29|\n",
            "|          1937|   24|\n",
            "|          1938|   15|\n",
            "|          1939|   21|\n",
            "|          1940|   16|\n",
            "|          1941|   22|\n",
            "+--------------+-----+\n",
            "only showing top 20 rows\n",
            "\n"
          ]
        }
      ]
    },
    {
      "cell_type": "code",
      "metadata": {
        "colab": {
          "base_uri": "https://localhost:8080/"
        },
        "id": "Pqkvh65FcUmU",
        "outputId": "e26bdb10-d288-47aa-98c3-e1475709a61a"
      },
      "source": [
        "w1 = Window.partitionBy(F.col('ano_lancamento')).orderBy('ano_lancamento')\n",
        "amazon_df.groupby(F.col('ano_lancamento')).count()\n",
        "amazon_df.withColumn('rank', F.rank().over(w1))"
      ],
      "execution_count": null,
      "outputs": [
        {
          "output_type": "execute_result",
          "data": {
            "text/plain": [
              "DataFrame[id: string, tipo: string, titulo: string, país: string, data_adicionado: string, ano_lancamento: int, classificacao: string, duracao: string, genero: string, rank: int]"
            ]
          },
          "metadata": {},
          "execution_count": 19
        }
      ]
    },
    {
      "cell_type": "markdown",
      "metadata": {
        "id": "hgKJTxaj3bFb"
      },
      "source": [
        "Aumento significativo nos ultimos anos"
      ]
    },
    {
      "cell_type": "code",
      "metadata": {
        "colab": {
          "base_uri": "https://localhost:8080/"
        },
        "id": "OdbYRtCazS5R",
        "outputId": "792fc6ca-38a7-4e6e-a0d1-f2a7111a7acf"
      },
      "source": [
        "amazon_df.filter(F.col('ano_lancamento').like('2018')).count(),"
      ],
      "execution_count": null,
      "outputs": [
        {
          "output_type": "execute_result",
          "data": {
            "text/plain": [
              "(623,)"
            ]
          },
          "metadata": {},
          "execution_count": 20
        }
      ]
    },
    {
      "cell_type": "code",
      "metadata": {
        "colab": {
          "base_uri": "https://localhost:8080/"
        },
        "id": "hHtbpRI2FDjX",
        "outputId": "ded446ed-46ea-4ba5-980b-bef64681ae0e"
      },
      "source": [
        "amazon_df.filter(F.col('ano_lancamento').like('2019')).count(),"
      ],
      "execution_count": null,
      "outputs": [
        {
          "output_type": "execute_result",
          "data": {
            "text/plain": [
              "(929,)"
            ]
          },
          "metadata": {},
          "execution_count": 21
        }
      ]
    },
    {
      "cell_type": "code",
      "metadata": {
        "id": "2qrXHTVTHZDI"
      },
      "source": [
        "Am_lanc_20=amazon_df.filter(F.col('ano_lancamento').like('2020')).count()"
      ],
      "execution_count": null,
      "outputs": []
    },
    {
      "cell_type": "code",
      "metadata": {
        "colab": {
          "base_uri": "https://localhost:8080/"
        },
        "id": "KciJL8bqHXZn",
        "outputId": "c176d4d5-9989-4c76-fd54-42d968d93a12"
      },
      "source": [
        "Am_lanc_21=amazon_df.groupby('ano_lancamento')\n",
        "amazon_df.filter(F.col('ano_lancamento').like('2021')).count()"
      ],
      "execution_count": null,
      "outputs": [
        {
          "output_type": "execute_result",
          "data": {
            "text/plain": [
              "1442"
            ]
          },
          "metadata": {},
          "execution_count": 23
        }
      ]
    },
    {
      "cell_type": "markdown",
      "metadata": {
        "id": "zNwL0AD6vwk9"
      },
      "source": [
        "Filtrando por tipo de programação"
      ]
    },
    {
      "cell_type": "code",
      "metadata": {
        "colab": {
          "base_uri": "https://localhost:8080/"
        },
        "id": "SIoHfKNLsAwL",
        "outputId": "7be8c11f-6909-4e22-ad9e-3a70789a19cb"
      },
      "source": [
        "amazon_df.select(F.col(\"titulo\"),F.col(\"tipo\"),F.col(\"genero\")).filter(\"tipo = 'Filme'\").show(10)\n"
      ],
      "execution_count": null,
      "outputs": [
        {
          "output_type": "stream",
          "name": "stdout",
          "text": [
            "+--------------------+-----+--------------------+\n",
            "|              titulo| tipo|              genero|\n",
            "+--------------------+-----+--------------------+\n",
            "|    A Grande Sedução|Filme|      Comedia, Drama|\n",
            "|  Cuide da boa noite|Filme|Drama, Internacional|\n",
            "|Segredos da Decepção|Filme|Acao, Drama, Susp...|\n",
            "|Rosa: Mantendo-se...|Filme|        Documentario|\n",
            "| Criador de Monstros|Filme|     Drama, Fantasia|\n",
            "|Living With Dinos...|Filme|  Fantasia, Infantil|\n",
            "|           Hired Gun|Filme|Documentario, Con...|\n",
            "|        Grease Live!|Filme|             Comedia|\n",
            "|     Global Meltdown|Filme|Acao, Ficcao Cien...|\n",
            "|      David's Mother|Filme|               Drama|\n",
            "+--------------------+-----+--------------------+\n",
            "only showing top 10 rows\n",
            "\n"
          ]
        }
      ]
    },
    {
      "cell_type": "code",
      "metadata": {
        "colab": {
          "base_uri": "https://localhost:8080/"
        },
        "id": "bY7XPIXoN2dx",
        "outputId": "08a34cd1-c26f-4ba2-fc06-0999dcaefae9"
      },
      "source": [
        "amazon_df.select(F.col(\"ano_lancamento\"),F.col(\"titulo\"),F.col(\"tipo\"),F.col(\"genero\")).filter(\"tipo = 'Serie'\").show()"
      ],
      "execution_count": null,
      "outputs": [
        {
          "output_type": "stream",
          "name": "stdout",
          "text": [
            "+--------------+--------------------+-----+--------------------+\n",
            "|ano_lancamento|              titulo| tipo|              genero|\n",
            "+--------------+--------------------+-----+--------------------+\n",
            "|          2008|          Zoo Babies|Serie|Infantil, Conteud...|\n",
            "|          2020|Zoë Coombs Marr: ...|Serie|Comedia, Entrevis...|\n",
            "|          2001|          Zoboomafoo|Serie|            Infantil|\n",
            "|          2020|Zo Zo Zombie: Min...|Serie|Acao, Anime, Comedia|\n",
            "|          2020|        ZeroZeroZero|Serie|              Series|\n",
            "|          2020|  Zahara: The Return|Serie|              Series|\n",
            "|          2017|Z: The Beginning ...|Serie|      Comedia, Drama|\n",
            "|          2015|     Yu-Gi-Oh! Zexal|Serie|Animacao, Anime, ...|\n",
            "|          2018|     Yu-Gi-Oh! ARC-V|Serie|Acao, Aventura, A...|\n",
            "|          2011|      Yu-Gi-Oh! 5D's|Serie|     Anime, Infantil|\n",
            "|          2013|Your Bleeped Up B...|Serie|              Series|\n",
            "|          2002|         Young Lions|Serie|     Drama, Suspense|\n",
            "|          2018|Yoga Therapy For ...|Serie|             Fitness|\n",
            "|          2020|     Yearly Departed|Serie|Artes, Entretenim...|\n",
            "|          1959|     Yancy Derringer|Serie|     Acao, Ocidental|\n",
            "|          2017|Xploration Earth ...|Serie|Documentario e Fi...|\n",
            "|          2015|  Xiaolin Chronicles|Serie|Aventura, Animaca...|\n",
            "|          2009|          WWII in HD|Serie|                Acao|\n",
            "|          2015|              WPC 56|Serie|Drama, Romance, S...|\n",
            "|          2009| Would I Lie to You?|Serie|Comedia, Conteudo...|\n",
            "+--------------+--------------------+-----+--------------------+\n",
            "only showing top 20 rows\n",
            "\n"
          ]
        }
      ]
    },
    {
      "cell_type": "markdown",
      "metadata": {
        "id": "Y2c5vtKGibYo"
      },
      "source": [
        "Criamos uma coluna (Aplicativo) para identificar os seviços de específicos desta tabela preparando para a junção em uma tabela unificada."
      ]
    },
    {
      "cell_type": "code",
      "metadata": {
        "id": "a8qbpGuee7Zj"
      },
      "source": [
        "from pyspark.sql.functions import regexp_replace\n",
        "amazon_df = amazon_df.withColumn('tempo', regexp_replace('duracao', 'min', ''))"
      ],
      "execution_count": null,
      "outputs": []
    },
    {
      "cell_type": "code",
      "metadata": {
        "colab": {
          "base_uri": "https://localhost:8080/"
        },
        "id": "mAKLYVfSMjHp",
        "outputId": "67611cf8-d4b8-411f-e248-fdb87dae15b3"
      },
      "source": [
        "amazon_df.show()"
      ],
      "execution_count": null,
      "outputs": [
        {
          "output_type": "stream",
          "name": "stdout",
          "text": [
            "+---+-----+--------------------+--------------+---------------+--------------+-------------+-----------+--------------------+-----------+\n",
            "| id| tipo|              titulo|          país|data_adicionado|ano_lancamento|classificacao|    duracao|              genero|      tempo|\n",
            "+---+-----+--------------------+--------------+---------------+--------------+-------------+-----------+--------------------+-----------+\n",
            "| s1|Filme|    A Grande Sedução|        Canada|     2021-03-30|          2014| Nao avaliado|    113 min|      Comedia, Drama|       113 |\n",
            "| s2|Filme|  Cuide da boa noite|         India|     2021-03-30|          2018|          13+|    110 min|Drama, Internacional|       110 |\n",
            "| s3|Filme|Segredos da Decepção|Estados Unidos|     2021-03-30|          2017| Nao avaliado|     74 min|Acao, Drama, Susp...|        74 |\n",
            "| s4|Filme|Rosa: Mantendo-se...|Estados Unidos|     2021-03-30|          2014| Nao avaliado|     69 min|        Documentario|        69 |\n",
            "| s5|Filme| Criador de Monstros|   Reino Unido|     2021-03-30|          1989| Nao avaliado|     45 min|     Drama, Fantasia|        45 |\n",
            "| s6|Filme|Living With Dinos...|   Reino Unido|     2021-03-30|          1989| Nao avaliado|     52 min|  Fantasia, Infantil|        52 |\n",
            "| s7|Filme|           Hired Gun|Estados Unidos|     2021-03-30|          2017| Nao avaliado|     98 min|Documentario, Con...|        98 |\n",
            "| s8|Filme|        Grease Live!|Estados Unidos|     2021-03-30|          2016| Nao avaliado|    131 min|             Comedia|       131 |\n",
            "| s9|Filme|     Global Meltdown|        Canada|     2021-03-30|          2017| Nao avaliado|     87 min|Acao, Ficcao Cien...|        87 |\n",
            "|s10|Filme|      David's Mother|Estados Unidos|     2021-04-01|          1994| Nao avaliado|     92 min|               Drama|        92 |\n",
            "|s11|Filme|      Forest Fairies|        Canada|     2021-04-04|          2016| Nao avaliado|     88 min|  Aventura, Infantil|        88 |\n",
            "|s12|Filme|           Take Care|Estados Unidos|     2021-04-10|          2014| Nao avaliado|     93 min|             Comedia|        93 |\n",
            "|s13|Filme|The Night Eats Th...|        Franca|     2021-04-17|          2018| Nao avaliado|     94 min|    Terror, Suspense|        94 |\n",
            "|s14|Filme|          Resilencia|       Espanha|     2021-04-24|          2020| Nao avaliado|     46 min|Documentario, Esp...|        46 |\n",
            "|s15|Filme|Elon Musk: The Re...|   Reino Unido|     2021-05-02|          2018| Nao avaliado|     74 min|        Documentario|        74 |\n",
            "|s16|Filme|          Summer '03|Estados Unidos|     2021-06-03|          2019| Nao avaliado|     96 min|      Comedia, Drama|        96 |\n",
            "|s17|Filme|            Zoombies| Nao Declarado|           null|          2016|          13+|     87 min|Terror, Ficcao Ci...|        87 |\n",
            "|s18|Serie|          Zoo Babies| Nao Declarado|           null|          2008|        Livre|1 Temporada|Infantil, Conteud...|1 Temporada|\n",
            "|s19|Serie|Zoë Coombs Marr: ...| Nao Declarado|           null|          2020|          18+|1 Temporada|Comedia, Entrevis...|1 Temporada|\n",
            "|s20|Filme|                 Zoe| Nao Declarado|           null|          2018|     Restrito|    104 min|   Ficcao Cientifica|       104 |\n",
            "+---+-----+--------------------+--------------+---------------+--------------+-------------+-----------+--------------------+-----------+\n",
            "only showing top 20 rows\n",
            "\n"
          ]
        }
      ]
    },
    {
      "cell_type": "code",
      "metadata": {
        "colab": {
          "base_uri": "https://localhost:8080/"
        },
        "id": "30OoyfQJHFbL",
        "outputId": "b27fad90-3f0f-49c8-9654-afd9dc7dae87"
      },
      "source": [
        "amazon_df.groupby(F.col('duracao')).count().show()\n"
      ],
      "execution_count": null,
      "outputs": [
        {
          "output_type": "stream",
          "name": "stdout",
          "text": [
            "+-------------+-----+\n",
            "|      duracao|count|\n",
            "+-------------+-----+\n",
            "|      100 min|  126|\n",
            "|      153 min|   17|\n",
            "|       56 min|   42|\n",
            "|       71 min|   52|\n",
            "|       13 min|    9|\n",
            "|       33 min|   16|\n",
            "|      119 min|   38|\n",
            "|21 Temporadas|    1|\n",
            "|      479 min|    1|\n",
            "|      165 min|    9|\n",
            "|       12 min|    5|\n",
            "|      142 min|   17|\n",
            "|       30 min|   42|\n",
            "|       27 min|   16|\n",
            "|      157 min|   11|\n",
            "|      173 min|    2|\n",
            "|       39 min|   10|\n",
            "|       82 min|  104|\n",
            "|       21 min|   23|\n",
            "|       40 min|   19|\n",
            "+-------------+-----+\n",
            "only showing top 20 rows\n",
            "\n"
          ]
        }
      ]
    },
    {
      "cell_type": "code",
      "metadata": {
        "colab": {
          "base_uri": "https://localhost:8080/"
        },
        "id": "x3el4BSMsj-D",
        "outputId": "02509435-0836-4f00-aa84-149a4bfc4f08"
      },
      "source": [
        "amazon_df.show()"
      ],
      "execution_count": null,
      "outputs": [
        {
          "output_type": "stream",
          "name": "stdout",
          "text": [
            "+---+-----+--------------------+--------------+---------------+--------------+-------------+-----------+--------------------+-----------+\n",
            "| id| tipo|              titulo|          país|data_adicionado|ano_lancamento|classificacao|    duracao|              genero|      tempo|\n",
            "+---+-----+--------------------+--------------+---------------+--------------+-------------+-----------+--------------------+-----------+\n",
            "| s1|Filme|    A Grande Sedução|        Canada|     2021-03-30|          2014| Nao avaliado|    113 min|      Comedia, Drama|       113 |\n",
            "| s2|Filme|  Cuide da boa noite|         India|     2021-03-30|          2018|          13+|    110 min|Drama, Internacional|       110 |\n",
            "| s3|Filme|Segredos da Decepção|Estados Unidos|     2021-03-30|          2017| Nao avaliado|     74 min|Acao, Drama, Susp...|        74 |\n",
            "| s4|Filme|Rosa: Mantendo-se...|Estados Unidos|     2021-03-30|          2014| Nao avaliado|     69 min|        Documentario|        69 |\n",
            "| s5|Filme| Criador de Monstros|   Reino Unido|     2021-03-30|          1989| Nao avaliado|     45 min|     Drama, Fantasia|        45 |\n",
            "| s6|Filme|Living With Dinos...|   Reino Unido|     2021-03-30|          1989| Nao avaliado|     52 min|  Fantasia, Infantil|        52 |\n",
            "| s7|Filme|           Hired Gun|Estados Unidos|     2021-03-30|          2017| Nao avaliado|     98 min|Documentario, Con...|        98 |\n",
            "| s8|Filme|        Grease Live!|Estados Unidos|     2021-03-30|          2016| Nao avaliado|    131 min|             Comedia|       131 |\n",
            "| s9|Filme|     Global Meltdown|        Canada|     2021-03-30|          2017| Nao avaliado|     87 min|Acao, Ficcao Cien...|        87 |\n",
            "|s10|Filme|      David's Mother|Estados Unidos|     2021-04-01|          1994| Nao avaliado|     92 min|               Drama|        92 |\n",
            "|s11|Filme|      Forest Fairies|        Canada|     2021-04-04|          2016| Nao avaliado|     88 min|  Aventura, Infantil|        88 |\n",
            "|s12|Filme|           Take Care|Estados Unidos|     2021-04-10|          2014| Nao avaliado|     93 min|             Comedia|        93 |\n",
            "|s13|Filme|The Night Eats Th...|        Franca|     2021-04-17|          2018| Nao avaliado|     94 min|    Terror, Suspense|        94 |\n",
            "|s14|Filme|          Resilencia|       Espanha|     2021-04-24|          2020| Nao avaliado|     46 min|Documentario, Esp...|        46 |\n",
            "|s15|Filme|Elon Musk: The Re...|   Reino Unido|     2021-05-02|          2018| Nao avaliado|     74 min|        Documentario|        74 |\n",
            "|s16|Filme|          Summer '03|Estados Unidos|     2021-06-03|          2019| Nao avaliado|     96 min|      Comedia, Drama|        96 |\n",
            "|s17|Filme|            Zoombies| Nao Declarado|           null|          2016|          13+|     87 min|Terror, Ficcao Ci...|        87 |\n",
            "|s18|Serie|          Zoo Babies| Nao Declarado|           null|          2008|        Livre|1 Temporada|Infantil, Conteud...|1 Temporada|\n",
            "|s19|Serie|Zoë Coombs Marr: ...| Nao Declarado|           null|          2020|          18+|1 Temporada|Comedia, Entrevis...|1 Temporada|\n",
            "|s20|Filme|                 Zoe| Nao Declarado|           null|          2018|     Restrito|    104 min|   Ficcao Cientifica|       104 |\n",
            "+---+-----+--------------------+--------------+---------------+--------------+-------------+-----------+--------------------+-----------+\n",
            "only showing top 20 rows\n",
            "\n"
          ]
        }
      ]
    },
    {
      "cell_type": "markdown",
      "metadata": {
        "id": "ctxLEpqZwEQy"
      },
      "source": [
        "Criação da coluna que identifica a qual empresa pertence os dados"
      ]
    },
    {
      "cell_type": "code",
      "metadata": {
        "id": "SMGhLa4tdbN5"
      },
      "source": [
        "valorA = 'Amazon'\n",
        "valorN = 'Netflix'\n",
        "amazon_df = amazon_df.withColumn(\"aplicativo\", F.lit(valorA))"
      ],
      "execution_count": null,
      "outputs": []
    },
    {
      "cell_type": "markdown",
      "metadata": {
        "id": "0VwQtvajwUpJ"
      },
      "source": [
        "Convertendo o dataframe pyspark para pandas novamente para poder salvar a tabela com as novas alterações."
      ]
    },
    {
      "cell_type": "code",
      "metadata": {
        "id": "t2YGxbnJfx8_"
      },
      "source": [
        "amazon_conv =amazon_df.toPandas()"
      ],
      "execution_count": null,
      "outputs": []
    },
    {
      "cell_type": "markdown",
      "metadata": {
        "id": "nDtwx8TpwraC"
      },
      "source": [
        "uma vez em pandas a tabela pode ser salva em csv"
      ]
    },
    {
      "cell_type": "code",
      "metadata": {
        "id": "Dp22CmsO-Heh"
      },
      "source": [
        "amazon_conv.to_csv('Amazon_trat.csv',index=False)"
      ],
      "execution_count": null,
      "outputs": []
    },
    {
      "cell_type": "markdown",
      "metadata": {
        "id": "qfQrqnD0w8ra"
      },
      "source": [
        "uma outra forma de salvar o arquivo que foi usada para teste"
      ]
    },
    {
      "cell_type": "code",
      "metadata": {
        "id": "vOOkL-Ly-GcB",
        "colab": {
          "base_uri": "https://localhost:8080/",
          "height": 54
        },
        "outputId": "3bfabf93-420a-4cef-e3a2-2d2c2753ff45"
      },
      "source": [
        "'''\n",
        "(\n",
        "    df1.write.format(\"csv\")\n",
        "    .option(\"header\", \"true\")\n",
        "    .option(\"inferschema\", \"true\")\n",
        "    .option(\"delimiter\", \",\")\n",
        "    .save(\"/content/drive/MyDrive/teste_PF.csv\")\n",
        ")\n",
        "'''"
      ],
      "execution_count": null,
      "outputs": [
        {
          "output_type": "execute_result",
          "data": {
            "application/vnd.google.colaboratory.intrinsic+json": {
              "type": "string"
            },
            "text/plain": [
              "'\\n(\\n    df1.write.format(\"csv\")\\n    .option(\"header\", \"true\")\\n    .option(\"inferschema\", \"true\")\\n    .option(\"delimiter\", \",\")\\n    .save(\"/content/drive/MyDrive/teste_PF.csv\")\\n)\\n'"
            ]
          },
          "metadata": {},
          "execution_count": 77
        }
      ]
    },
    {
      "cell_type": "markdown",
      "metadata": {
        "id": "-TH9Ik7zxPKo"
      },
      "source": [
        "visualização da tabela nova"
      ]
    },
    {
      "cell_type": "code",
      "metadata": {
        "colab": {
          "base_uri": "https://localhost:8080/",
          "height": 704
        },
        "id": "RcBYZHaEMCeM",
        "outputId": "3e8becd3-e826-4e92-858e-6441da696aca"
      },
      "source": [
        "teste=pd.read_csv('/content/Amazon_trat.csv')\n",
        "teste"
      ],
      "execution_count": null,
      "outputs": [
        {
          "output_type": "execute_result",
          "data": {
            "text/html": [
              "<div>\n",
              "<style scoped>\n",
              "    .dataframe tbody tr th:only-of-type {\n",
              "        vertical-align: middle;\n",
              "    }\n",
              "\n",
              "    .dataframe tbody tr th {\n",
              "        vertical-align: top;\n",
              "    }\n",
              "\n",
              "    .dataframe thead th {\n",
              "        text-align: right;\n",
              "    }\n",
              "</style>\n",
              "<table border=\"1\" class=\"dataframe\">\n",
              "  <thead>\n",
              "    <tr style=\"text-align: right;\">\n",
              "      <th></th>\n",
              "      <th>id</th>\n",
              "      <th>tipo</th>\n",
              "      <th>titulo</th>\n",
              "      <th>país</th>\n",
              "      <th>data_adicionado</th>\n",
              "      <th>ano_lancamento</th>\n",
              "      <th>classificacao</th>\n",
              "      <th>duracao</th>\n",
              "      <th>genero</th>\n",
              "      <th>tempo</th>\n",
              "      <th>aplicativo</th>\n",
              "    </tr>\n",
              "  </thead>\n",
              "  <tbody>\n",
              "    <tr>\n",
              "      <th>0</th>\n",
              "      <td>s1</td>\n",
              "      <td>Filme</td>\n",
              "      <td>A Grande Sedução</td>\n",
              "      <td>Canada</td>\n",
              "      <td>2021-03-30</td>\n",
              "      <td>2014</td>\n",
              "      <td>Nao avaliado</td>\n",
              "      <td>113 min</td>\n",
              "      <td>Comedia, Drama</td>\n",
              "      <td>113</td>\n",
              "      <td>Amazon</td>\n",
              "    </tr>\n",
              "    <tr>\n",
              "      <th>1</th>\n",
              "      <td>s2</td>\n",
              "      <td>Filme</td>\n",
              "      <td>Cuide da boa noite</td>\n",
              "      <td>India</td>\n",
              "      <td>2021-03-30</td>\n",
              "      <td>2018</td>\n",
              "      <td>13+</td>\n",
              "      <td>110 min</td>\n",
              "      <td>Drama, Internacional</td>\n",
              "      <td>110</td>\n",
              "      <td>Amazon</td>\n",
              "    </tr>\n",
              "    <tr>\n",
              "      <th>2</th>\n",
              "      <td>s3</td>\n",
              "      <td>Filme</td>\n",
              "      <td>Segredos da Decepção</td>\n",
              "      <td>Estados Unidos</td>\n",
              "      <td>2021-03-30</td>\n",
              "      <td>2017</td>\n",
              "      <td>Nao avaliado</td>\n",
              "      <td>74 min</td>\n",
              "      <td>Acao, Drama, Suspense</td>\n",
              "      <td>74</td>\n",
              "      <td>Amazon</td>\n",
              "    </tr>\n",
              "    <tr>\n",
              "      <th>3</th>\n",
              "      <td>s4</td>\n",
              "      <td>Filme</td>\n",
              "      <td>Rosa: Mantendo-se Verdadeiro</td>\n",
              "      <td>Estados Unidos</td>\n",
              "      <td>2021-03-30</td>\n",
              "      <td>2014</td>\n",
              "      <td>Nao avaliado</td>\n",
              "      <td>69 min</td>\n",
              "      <td>Documentario</td>\n",
              "      <td>69</td>\n",
              "      <td>Amazon</td>\n",
              "    </tr>\n",
              "    <tr>\n",
              "      <th>4</th>\n",
              "      <td>s5</td>\n",
              "      <td>Filme</td>\n",
              "      <td>Criador de Monstros</td>\n",
              "      <td>Reino Unido</td>\n",
              "      <td>2021-03-30</td>\n",
              "      <td>1989</td>\n",
              "      <td>Nao avaliado</td>\n",
              "      <td>45 min</td>\n",
              "      <td>Drama, Fantasia</td>\n",
              "      <td>45</td>\n",
              "      <td>Amazon</td>\n",
              "    </tr>\n",
              "    <tr>\n",
              "      <th>...</th>\n",
              "      <td>...</td>\n",
              "      <td>...</td>\n",
              "      <td>...</td>\n",
              "      <td>...</td>\n",
              "      <td>...</td>\n",
              "      <td>...</td>\n",
              "      <td>...</td>\n",
              "      <td>...</td>\n",
              "      <td>...</td>\n",
              "      <td>...</td>\n",
              "      <td>...</td>\n",
              "    </tr>\n",
              "    <tr>\n",
              "      <th>9663</th>\n",
              "      <td>s9664</td>\n",
              "      <td>Filme</td>\n",
              "      <td>Pride Of The Bowery</td>\n",
              "      <td>Nao Declarado</td>\n",
              "      <td>NaN</td>\n",
              "      <td>1940</td>\n",
              "      <td>7+</td>\n",
              "      <td>60 min</td>\n",
              "      <td>Comedia</td>\n",
              "      <td>60</td>\n",
              "      <td>Amazon</td>\n",
              "    </tr>\n",
              "    <tr>\n",
              "      <th>9664</th>\n",
              "      <td>s9665</td>\n",
              "      <td>Serie</td>\n",
              "      <td>Planet Patrol</td>\n",
              "      <td>Nao Declarado</td>\n",
              "      <td>NaN</td>\n",
              "      <td>2018</td>\n",
              "      <td>13+</td>\n",
              "      <td>4 Temporadas</td>\n",
              "      <td>Series</td>\n",
              "      <td>4 Temporadas</td>\n",
              "      <td>Amazon</td>\n",
              "    </tr>\n",
              "    <tr>\n",
              "      <th>9665</th>\n",
              "      <td>s9666</td>\n",
              "      <td>Filme</td>\n",
              "      <td>Outpost</td>\n",
              "      <td>Nao Declarado</td>\n",
              "      <td>NaN</td>\n",
              "      <td>2008</td>\n",
              "      <td>Restrito</td>\n",
              "      <td>90 min</td>\n",
              "      <td>Acao</td>\n",
              "      <td>90</td>\n",
              "      <td>Amazon</td>\n",
              "    </tr>\n",
              "    <tr>\n",
              "      <th>9666</th>\n",
              "      <td>s9667</td>\n",
              "      <td>Serie</td>\n",
              "      <td>Maradona: Blessed Dream</td>\n",
              "      <td>Nao Declarado</td>\n",
              "      <td>NaN</td>\n",
              "      <td>2021</td>\n",
              "      <td>Adultos</td>\n",
              "      <td>1 Temporada</td>\n",
              "      <td>Drama, Esportes</td>\n",
              "      <td>1 Temporada</td>\n",
              "      <td>Amazon</td>\n",
              "    </tr>\n",
              "    <tr>\n",
              "      <th>9667</th>\n",
              "      <td>s9668</td>\n",
              "      <td>Filme</td>\n",
              "      <td>Harry Brown</td>\n",
              "      <td>Nao Declarado</td>\n",
              "      <td>NaN</td>\n",
              "      <td>2010</td>\n",
              "      <td>Restrito</td>\n",
              "      <td>103 min</td>\n",
              "      <td>Acao, Drama, Suspense</td>\n",
              "      <td>103</td>\n",
              "      <td>Amazon</td>\n",
              "    </tr>\n",
              "  </tbody>\n",
              "</table>\n",
              "<p>9668 rows × 11 columns</p>\n",
              "</div>"
            ],
            "text/plain": [
              "         id   tipo  ...         tempo aplicativo\n",
              "0        s1  Filme  ...          113      Amazon\n",
              "1        s2  Filme  ...          110      Amazon\n",
              "2        s3  Filme  ...           74      Amazon\n",
              "3        s4  Filme  ...           69      Amazon\n",
              "4        s5  Filme  ...           45      Amazon\n",
              "...     ...    ...  ...           ...        ...\n",
              "9663  s9664  Filme  ...           60      Amazon\n",
              "9664  s9665  Serie  ...  4 Temporadas     Amazon\n",
              "9665  s9666  Filme  ...           90      Amazon\n",
              "9666  s9667  Serie  ...   1 Temporada     Amazon\n",
              "9667  s9668  Filme  ...          103      Amazon\n",
              "\n",
              "[9668 rows x 11 columns]"
            ]
          },
          "metadata": {},
          "execution_count": 78
        }
      ]
    },
    {
      "cell_type": "markdown",
      "metadata": {
        "id": "8P8svW4wkMQ2"
      },
      "source": [
        "# Criando uma terceira tabela usando concat"
      ]
    },
    {
      "cell_type": "markdown",
      "metadata": {
        "id": "LdQBglh3kL80"
      },
      "source": [
        ""
      ]
    },
    {
      "cell_type": "code",
      "metadata": {
        "id": "UHPY07makGR5"
      },
      "source": [
        "import pandas as pd"
      ],
      "execution_count": null,
      "outputs": []
    },
    {
      "cell_type": "code",
      "metadata": {
        "id": "nKBKwUcOou4f"
      },
      "source": [
        ""
      ],
      "execution_count": null,
      "outputs": []
    },
    {
      "cell_type": "markdown",
      "metadata": {
        "id": "WQqx-ANFeXha"
      },
      "source": [
        "Lendo as duas tabelas(Amazon e Netflix) no formato csv"
      ]
    },
    {
      "cell_type": "code",
      "metadata": {
        "id": "gwmkJcXhXEXU"
      },
      "source": [
        "netflix_df = pd.read_csv('/content/ProjetoFinal_12/netflix_trat.csv')\n",
        "amazon_df = pd.read_csv('/content/ProjetoFinal_12/Amazon_trat.csv')"
      ],
      "execution_count": null,
      "outputs": []
    },
    {
      "cell_type": "markdown",
      "metadata": {
        "id": "Mmv7Z03nd4jk"
      },
      "source": [
        "Criando a tabela resultante da junção de dados da Amazon e da Netflix"
      ]
    },
    {
      "cell_type": "code",
      "metadata": {
        "colab": {
          "base_uri": "https://localhost:8080/",
          "height": 808
        },
        "id": "HKGrc5POXETw",
        "outputId": "58a274e4-2bbe-4882-f99a-c685115a7a57"
      },
      "source": [
        "amazon_netflix = pd.concat([amazon_df, netflix_df])\n",
        "amazon_netflix"
      ],
      "execution_count": null,
      "outputs": [
        {
          "output_type": "execute_result",
          "data": {
            "text/html": [
              "<div>\n",
              "<style scoped>\n",
              "    .dataframe tbody tr th:only-of-type {\n",
              "        vertical-align: middle;\n",
              "    }\n",
              "\n",
              "    .dataframe tbody tr th {\n",
              "        vertical-align: top;\n",
              "    }\n",
              "\n",
              "    .dataframe thead th {\n",
              "        text-align: right;\n",
              "    }\n",
              "</style>\n",
              "<table border=\"1\" class=\"dataframe\">\n",
              "  <thead>\n",
              "    <tr style=\"text-align: right;\">\n",
              "      <th></th>\n",
              "      <th>id</th>\n",
              "      <th>tipo</th>\n",
              "      <th>titulo</th>\n",
              "      <th>país</th>\n",
              "      <th>data_adicionado</th>\n",
              "      <th>ano_lancamento</th>\n",
              "      <th>classificacao</th>\n",
              "      <th>duracao</th>\n",
              "      <th>genero</th>\n",
              "      <th>tempo</th>\n",
              "      <th>aplicativo</th>\n",
              "    </tr>\n",
              "  </thead>\n",
              "  <tbody>\n",
              "    <tr>\n",
              "      <th>0</th>\n",
              "      <td>s1</td>\n",
              "      <td>Filme</td>\n",
              "      <td>A Grande Sedução</td>\n",
              "      <td>Canada</td>\n",
              "      <td>2021-03-30</td>\n",
              "      <td>2014</td>\n",
              "      <td>Nao avaliado</td>\n",
              "      <td>113 min</td>\n",
              "      <td>Comedia, Drama</td>\n",
              "      <td>113</td>\n",
              "      <td>Amazon</td>\n",
              "    </tr>\n",
              "    <tr>\n",
              "      <th>1</th>\n",
              "      <td>s2</td>\n",
              "      <td>Filme</td>\n",
              "      <td>Cuide da boa noite</td>\n",
              "      <td>India</td>\n",
              "      <td>2021-03-30</td>\n",
              "      <td>2018</td>\n",
              "      <td>13+</td>\n",
              "      <td>110 min</td>\n",
              "      <td>Drama, Internacional</td>\n",
              "      <td>110</td>\n",
              "      <td>Amazon</td>\n",
              "    </tr>\n",
              "    <tr>\n",
              "      <th>2</th>\n",
              "      <td>s3</td>\n",
              "      <td>Filme</td>\n",
              "      <td>Segredos da Decepção</td>\n",
              "      <td>Estados Unidos</td>\n",
              "      <td>2021-03-30</td>\n",
              "      <td>2017</td>\n",
              "      <td>Nao avaliado</td>\n",
              "      <td>74 min</td>\n",
              "      <td>Acao, Drama, Suspense</td>\n",
              "      <td>74</td>\n",
              "      <td>Amazon</td>\n",
              "    </tr>\n",
              "    <tr>\n",
              "      <th>3</th>\n",
              "      <td>s4</td>\n",
              "      <td>Filme</td>\n",
              "      <td>Rosa: Mantendo-se Verdadeiro</td>\n",
              "      <td>Estados Unidos</td>\n",
              "      <td>2021-03-30</td>\n",
              "      <td>2014</td>\n",
              "      <td>Nao avaliado</td>\n",
              "      <td>69 min</td>\n",
              "      <td>Documentario</td>\n",
              "      <td>69</td>\n",
              "      <td>Amazon</td>\n",
              "    </tr>\n",
              "    <tr>\n",
              "      <th>4</th>\n",
              "      <td>s5</td>\n",
              "      <td>Filme</td>\n",
              "      <td>Criador de Monstros</td>\n",
              "      <td>Reino Unido</td>\n",
              "      <td>2021-03-30</td>\n",
              "      <td>1989</td>\n",
              "      <td>Nao avaliado</td>\n",
              "      <td>45 min</td>\n",
              "      <td>Drama, Fantasia</td>\n",
              "      <td>45</td>\n",
              "      <td>Amazon</td>\n",
              "    </tr>\n",
              "    <tr>\n",
              "      <th>...</th>\n",
              "      <td>...</td>\n",
              "      <td>...</td>\n",
              "      <td>...</td>\n",
              "      <td>...</td>\n",
              "      <td>...</td>\n",
              "      <td>...</td>\n",
              "      <td>...</td>\n",
              "      <td>...</td>\n",
              "      <td>...</td>\n",
              "      <td>...</td>\n",
              "      <td>...</td>\n",
              "    </tr>\n",
              "    <tr>\n",
              "      <th>8801</th>\n",
              "      <td>s8803</td>\n",
              "      <td>Filmes</td>\n",
              "      <td>Zodiac</td>\n",
              "      <td>Estados Unidos</td>\n",
              "      <td>2019-11-20</td>\n",
              "      <td>2007</td>\n",
              "      <td>Restrito</td>\n",
              "      <td>158 min</td>\n",
              "      <td>Filmes de culto, dramas, suspense</td>\n",
              "      <td>NaN</td>\n",
              "      <td>Netflix</td>\n",
              "    </tr>\n",
              "    <tr>\n",
              "      <th>8802</th>\n",
              "      <td>s8804</td>\n",
              "      <td>Séries</td>\n",
              "      <td>Zombie Dumb</td>\n",
              "      <td>Nao Declarado</td>\n",
              "      <td>2019-07-01</td>\n",
              "      <td>2018</td>\n",
              "      <td>7+</td>\n",
              "      <td>2 Temporadas</td>\n",
              "      <td>TV infantil, programas de TV coreanos, comédia...</td>\n",
              "      <td>NaN</td>\n",
              "      <td>Netflix</td>\n",
              "    </tr>\n",
              "    <tr>\n",
              "      <th>8803</th>\n",
              "      <td>s8805</td>\n",
              "      <td>Filmes</td>\n",
              "      <td>Zombieland</td>\n",
              "      <td>Estados Unidos</td>\n",
              "      <td>2019-11-01</td>\n",
              "      <td>2009</td>\n",
              "      <td>Restrito</td>\n",
              "      <td>88 min</td>\n",
              "      <td>Comédias, Filmes de Terror</td>\n",
              "      <td>NaN</td>\n",
              "      <td>Netflix</td>\n",
              "    </tr>\n",
              "    <tr>\n",
              "      <th>8804</th>\n",
              "      <td>s8806</td>\n",
              "      <td>Filmes</td>\n",
              "      <td>Zoom</td>\n",
              "      <td>Estados Unidos</td>\n",
              "      <td>2020-01-11</td>\n",
              "      <td>2006</td>\n",
              "      <td>13+</td>\n",
              "      <td>88 min</td>\n",
              "      <td>Filmes infantis e familiares, comédias</td>\n",
              "      <td>NaN</td>\n",
              "      <td>Netflix</td>\n",
              "    </tr>\n",
              "    <tr>\n",
              "      <th>8805</th>\n",
              "      <td>s8807</td>\n",
              "      <td>Filmes</td>\n",
              "      <td>Zubaan</td>\n",
              "      <td>Índia</td>\n",
              "      <td>2019-03-02</td>\n",
              "      <td>2015</td>\n",
              "      <td>14+</td>\n",
              "      <td>111 min</td>\n",
              "      <td>Dramas, filmes internacionais, música e musicais</td>\n",
              "      <td>NaN</td>\n",
              "      <td>Netflix</td>\n",
              "    </tr>\n",
              "  </tbody>\n",
              "</table>\n",
              "<p>18474 rows × 11 columns</p>\n",
              "</div>"
            ],
            "text/plain": [
              "         id    tipo  ... tempo aplicativo\n",
              "0        s1   Filme  ...  113      Amazon\n",
              "1        s2   Filme  ...  110      Amazon\n",
              "2        s3   Filme  ...   74      Amazon\n",
              "3        s4   Filme  ...   69      Amazon\n",
              "4        s5   Filme  ...   45      Amazon\n",
              "...     ...     ...  ...   ...        ...\n",
              "8801  s8803  Filmes  ...   NaN    Netflix\n",
              "8802  s8804  Séries  ...   NaN    Netflix\n",
              "8803  s8805  Filmes  ...   NaN    Netflix\n",
              "8804  s8806  Filmes  ...   NaN    Netflix\n",
              "8805  s8807  Filmes  ...   NaN    Netflix\n",
              "\n",
              "[18474 rows x 11 columns]"
            ]
          },
          "metadata": {},
          "execution_count": 83
        }
      ]
    },
    {
      "cell_type": "markdown",
      "metadata": {
        "id": "rpUlFooKdmDh"
      },
      "source": [
        "Salvando a 3° tabela em csv\n"
      ]
    },
    {
      "cell_type": "code",
      "metadata": {
        "id": "QAUs1KuLccRG"
      },
      "source": [
        "amazon_netflix.to_csv('Amazon_Netflix.csv',index=False)"
      ],
      "execution_count": null,
      "outputs": []
    },
    {
      "cell_type": "markdown",
      "metadata": {
        "id": "3-g6nGAoHnmO"
      },
      "source": [
        "Transferindo dados para o Cloud storage"
      ]
    },
    {
      "cell_type": "code",
      "metadata": {
        "colab": {
          "base_uri": "https://localhost:8080/"
        },
        "id": "qslS7PvjF8ev",
        "outputId": "3f6648e0-b278-46f5-af0e-017b1e73c7b3"
      },
      "source": [
        "!gsutil cp Amazon_netflix.csv gs://bucket-rosa/entrada/Amazon_netflix.csv"
      ],
      "execution_count": null,
      "outputs": [
        {
          "output_type": "stream",
          "name": "stdout",
          "text": [
            "ServiceException: 401 Anonymous caller does not have storage.objects.list access to the Google Cloud Storage bucket.\n"
          ]
        }
      ]
    },
    {
      "cell_type": "markdown",
      "metadata": {
        "id": "Z0twhJCiI2o2"
      },
      "source": [
        "************************************************************"
      ]
    },
    {
      "cell_type": "markdown",
      "metadata": {
        "id": "6m_or3q0I78g"
      },
      "source": [
        "# colab TerceiraTabela_Sql"
      ]
    },
    {
      "cell_type": "code",
      "metadata": {
        "id": "4HGavfFyJHPD"
      },
      "source": [
        "df = (spark.read.format(\"csv\") \\\n",
        "  .option(\"inferSchema\", \"false\") \\\n",
        "  .option(\"header\", \"true\") \\\n",
        "  .option(\"sep\", \",\") \\\n",
        "  .load(\"/content/ProjetoFinal_12/Amazon_netflix.csv\")\n",
        "  .createOrReplaceTempView(\"app_video\")\n",
        "    )"
      ],
      "execution_count": null,
      "outputs": []
    },
    {
      "cell_type": "code",
      "metadata": {
        "id": "NF0-fIvhbWxS"
      },
      "source": [
        "from google.colab import drive\n",
        "drive.mount('/content/drive')"
      ],
      "execution_count": null,
      "outputs": []
    },
    {
      "cell_type": "code",
      "metadata": {
        "colab": {
          "base_uri": "https://localhost:8080/"
        },
        "id": "XDH6sAVUWREw",
        "outputId": "b9116a5f-82d7-41b4-a5c3-fe3715f4ec2f"
      },
      "source": [
        "\n",
        "spark.sql(\"SELECT * FROM app_video\").show()"
      ],
      "execution_count": null,
      "outputs": [
        {
          "output_type": "stream",
          "name": "stdout",
          "text": [
            "+---+-----+--------------------+--------------+---------------+--------------+-------------+-----------+--------------------+----------+\n",
            "| id| tipo|              titulo|          país|data_adicionado|ano_lancamento|classificacao|    duracao|              genero|aplicativo|\n",
            "+---+-----+--------------------+--------------+---------------+--------------+-------------+-----------+--------------------+----------+\n",
            "| s1|Filme|    A Grande Sedução|        Canada|     2021-03-30|          2014| Nao avaliado|    113 min|      Comedia, Drama|    Amazon|\n",
            "| s2|Filme|  Cuide da boa noite|         India|     2021-03-30|          2018|          13+|    110 min|Drama, Internacional|    Amazon|\n",
            "| s3|Filme|Segredos da Decepção|Estados Unidos|     2021-03-30|          2017| Nao avaliado|     74 min|Acao, Drama, Susp...|    Amazon|\n",
            "| s4|Filme|Rosa: Mantendo-se...|Estados Unidos|     2021-03-30|          2014| Nao avaliado|     69 min|        Documentario|    Amazon|\n",
            "| s5|Filme| Criador de Monstros|   Reino Unido|     2021-03-30|          1989| Nao avaliado|     45 min|     Drama, Fantasia|    Amazon|\n",
            "| s6|Filme|Living With Dinos...|   Reino Unido|     2021-03-30|          1989| Nao avaliado|     52 min|  Fantasia, Infantil|    Amazon|\n",
            "| s7|Filme|           Hired Gun|Estados Unidos|     2021-03-30|          2017| Nao avaliado|     98 min|Documentario, Con...|    Amazon|\n",
            "| s8|Filme|        Grease Live!|Estados Unidos|     2021-03-30|          2016| Nao avaliado|    131 min|             Comedia|    Amazon|\n",
            "| s9|Filme|     Global Meltdown|        Canada|     2021-03-30|          2017| Nao avaliado|     87 min|Acao, Ficcao Cien...|    Amazon|\n",
            "|s10|Filme|      David's Mother|Estados Unidos|     2021-04-01|          1994| Nao avaliado|     92 min|               Drama|    Amazon|\n",
            "|s11|Filme|      Forest Fairies|        Canada|     2021-04-04|          2016| Nao avaliado|     88 min|  Aventura, Infantil|    Amazon|\n",
            "|s12|Filme|           Take Care|Estados Unidos|     2021-04-10|          2014| Nao avaliado|     93 min|             Comedia|    Amazon|\n",
            "|s13|Filme|The Night Eats Th...|        Franca|     2021-04-17|          2018| Nao avaliado|     94 min|    Terror, Suspense|    Amazon|\n",
            "|s14|Filme|          Resilencia|       Espanha|     2021-04-24|          2020| Nao avaliado|     46 min|Documentario, Esp...|    Amazon|\n",
            "|s15|Filme|Elon Musk: The Re...|   Reino Unido|     2021-05-02|          2018| Nao avaliado|     74 min|        Documentario|    Amazon|\n",
            "|s16|Filme|          Summer '03|Estados Unidos|     2021-06-03|          2019| Nao avaliado|     96 min|      Comedia, Drama|    Amazon|\n",
            "|s17|Filme|            Zoombies| Nao Declarado|           null|          2016|          13+|     87 min|Terror, Ficcao Ci...|    Amazon|\n",
            "|s18|Serie|          Zoo Babies| Nao Declarado|           null|          2008|        Livre|1 Temporada|Infantil, Conteud...|    Amazon|\n",
            "|s19|Serie|Zoë Coombs Marr: ...| Nao Declarado|           null|          2020|          18+|1 Temporada|Comedia, Entrevis...|    Amazon|\n",
            "|s20|Filme|                 Zoe| Nao Declarado|           null|          2018|     Restrito|    104 min|   Ficcao Cientifica|    Amazon|\n",
            "+---+-----+--------------------+--------------+---------------+--------------+-------------+-----------+--------------------+----------+\n",
            "only showing top 20 rows\n",
            "\n"
          ]
        }
      ]
    },
    {
      "cell_type": "markdown",
      "metadata": {
        "id": "02ElbOXxumK3"
      },
      "source": [
        "As consultas em sparkSql foram implementadas em um novo colab (TerceiraTabela_Sql.ipynb)\n"
      ]
    }
  ]
}