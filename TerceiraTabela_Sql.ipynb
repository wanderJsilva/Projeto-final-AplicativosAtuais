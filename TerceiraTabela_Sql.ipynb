{
  "nbformat": 4,
  "nbformat_minor": 0,
  "metadata": {
    "colab": {
      "name": "Cópia de TerceiraTabela_Sql.ipynb",
      "provenance": [],
      "collapsed_sections": []
    },
    "kernelspec": {
      "name": "python3",
      "display_name": "Python 3"
    },
    "language_info": {
      "name": "python"
    }
  },
  "cells": [
    {
      "cell_type": "markdown",
      "metadata": {
        "id": "jOBue0hfypwq"
      },
      "source": [
        "# **instalando o PySpark**"
      ]
    },
    {
      "cell_type": "code",
      "metadata": {
        "id": "lBdJkOA4YADK",
        "colab": {
          "base_uri": "https://localhost:8080/"
        },
        "outputId": "21cad2d0-7d5f-4b46-af34-d1dce41009cf"
      },
      "source": [
        "!pip install pyspark"
      ],
      "execution_count": null,
      "outputs": [
        {
          "output_type": "stream",
          "name": "stdout",
          "text": [
            "Collecting pyspark\n",
            "  Downloading pyspark-3.2.0.tar.gz (281.3 MB)\n",
            "\u001b[K     |████████████████████████████████| 281.3 MB 37 kB/s \n",
            "\u001b[?25hCollecting py4j==0.10.9.2\n",
            "  Downloading py4j-0.10.9.2-py2.py3-none-any.whl (198 kB)\n",
            "\u001b[K     |████████████████████████████████| 198 kB 58.7 MB/s \n",
            "\u001b[?25hBuilding wheels for collected packages: pyspark\n",
            "  Building wheel for pyspark (setup.py) ... \u001b[?25l\u001b[?25hdone\n",
            "  Created wheel for pyspark: filename=pyspark-3.2.0-py2.py3-none-any.whl size=281805912 sha256=fb349452bd2f23e46a14948f57b0e4da28071bfe0f8d9aded21035e2f60d9c4e\n",
            "  Stored in directory: /root/.cache/pip/wheels/0b/de/d2/9be5d59d7331c6c2a7c1b6d1a4f463ce107332b1ecd4e80718\n",
            "Successfully built pyspark\n",
            "Installing collected packages: py4j, pyspark\n",
            "Successfully installed py4j-0.10.9.2 pyspark-3.2.0\n"
          ]
        }
      ]
    },
    {
      "cell_type": "markdown",
      "metadata": {
        "id": "9parld5Xy1XN"
      },
      "source": [
        "**Importando e definindo SpakSession**"
      ]
    },
    {
      "cell_type": "code",
      "metadata": {
        "id": "vWjzmfg1kKR7"
      },
      "source": [
        "from pyspark.sql import SparkSession"
      ],
      "execution_count": null,
      "outputs": []
    },
    {
      "cell_type": "code",
      "metadata": {
        "id": "h2W5XP9y7Yxi"
      },
      "source": [
        "spark = (\n",
        "    SparkSession.builder\n",
        "      .master('local')\n",
        "      .appName('dataframe_withcolumn')\n",
        "      .config('spark.ui.port', '4050')\n",
        "      .getOrCreate()\n",
        ")"
      ],
      "execution_count": null,
      "outputs": []
    },
    {
      "cell_type": "markdown",
      "metadata": {
        "id": "LrrwVN5vzZ-i"
      },
      "source": [
        "**Lendo o esquema de cabeçario e com condição de exibição do dataframe**"
      ]
    },
    {
      "cell_type": "code",
      "metadata": {
        "id": "cKGu9wTn2NWL"
      },
      "source": [
        "df = (spark\n",
        "       .read\n",
        "       .format(\"csv\")\n",
        "       .option(\"header\", \"true\")\n",
        "       .option(\"inferschema\", \"true\")\n",
        "       .option(\"delimiter\", \",\")\n",
        "       .load('/content/Amazon_netflix.csv')\n",
        "       .createOrReplaceTempView(\"tab_3_sql\")\n",
        ")"
      ],
      "execution_count": null,
      "outputs": []
    },
    {
      "cell_type": "markdown",
      "metadata": {
        "id": "7K_LekUgzuZE"
      },
      "source": [
        "**Visualisando o dataframe**"
      ]
    },
    {
      "cell_type": "code",
      "metadata": {
        "colab": {
          "base_uri": "https://localhost:8080/"
        },
        "id": "_oamrYut25U8",
        "outputId": "c672084b-7369-4d5b-a02d-61103850ff8d"
      },
      "source": [
        "spark.sql(\"select * from tab_3_sql\").show()"
      ],
      "execution_count": null,
      "outputs": [
        {
          "output_type": "stream",
          "name": "stdout",
          "text": [
            "+---+-----+--------------------+--------------+---------------+--------------+-------------+-----------+--------------------+----------+\n",
            "| id| tipo|              titulo|          país|data_adicionado|ano_lancamento|classificacao|    duracao|              genero|aplicativo|\n",
            "+---+-----+--------------------+--------------+---------------+--------------+-------------+-----------+--------------------+----------+\n",
            "| s1|Filme|    A Grande Sedução|        Canada|     2021-03-30|          2014| Nao avaliado|    113 min|      Comedia, Drama|    Amazon|\n",
            "| s2|Filme|  Cuide da boa noite|         India|     2021-03-30|          2018|          13+|    110 min|Drama, Internacional|    Amazon|\n",
            "| s3|Filme|Segredos da Decepção|Estados Unidos|     2021-03-30|          2017| Nao avaliado|     74 min|Acao, Drama, Susp...|    Amazon|\n",
            "| s4|Filme|Rosa: Mantendo-se...|Estados Unidos|     2021-03-30|          2014| Nao avaliado|     69 min|        Documentario|    Amazon|\n",
            "| s5|Filme| Criador de Monstros|   Reino Unido|     2021-03-30|          1989| Nao avaliado|     45 min|     Drama, Fantasia|    Amazon|\n",
            "| s6|Filme|Living With Dinos...|   Reino Unido|     2021-03-30|          1989| Nao avaliado|     52 min|  Fantasia, Infantil|    Amazon|\n",
            "| s7|Filme|           Hired Gun|Estados Unidos|     2021-03-30|          2017| Nao avaliado|     98 min|Documentario, Con...|    Amazon|\n",
            "| s8|Filme|        Grease Live!|Estados Unidos|     2021-03-30|          2016| Nao avaliado|    131 min|             Comedia|    Amazon|\n",
            "| s9|Filme|     Global Meltdown|        Canada|     2021-03-30|          2017| Nao avaliado|     87 min|Acao, Ficcao Cien...|    Amazon|\n",
            "|s10|Filme|      David's Mother|Estados Unidos|     2021-04-01|          1994| Nao avaliado|     92 min|               Drama|    Amazon|\n",
            "|s11|Filme|      Forest Fairies|        Canada|     2021-04-04|          2016| Nao avaliado|     88 min|  Aventura, Infantil|    Amazon|\n",
            "|s12|Filme|           Take Care|Estados Unidos|     2021-04-10|          2014| Nao avaliado|     93 min|             Comedia|    Amazon|\n",
            "|s13|Filme|The Night Eats Th...|        Franca|     2021-04-17|          2018| Nao avaliado|     94 min|    Terror, Suspense|    Amazon|\n",
            "|s14|Filme|          Resilencia|       Espanha|     2021-04-24|          2020| Nao avaliado|     46 min|Documentario, Esp...|    Amazon|\n",
            "|s15|Filme|Elon Musk: The Re...|   Reino Unido|     2021-05-02|          2018| Nao avaliado|     74 min|        Documentario|    Amazon|\n",
            "|s16|Filme|          Summer '03|Estados Unidos|     2021-06-03|          2019| Nao avaliado|     96 min|      Comedia, Drama|    Amazon|\n",
            "|s17|Filme|            Zoombies| Nao Declarado|           null|          2016|          13+|     87 min|Terror, Ficcao Ci...|    Amazon|\n",
            "|s18|Serie|          Zoo Babies| Nao Declarado|           null|          2008|        Livre|1 Temporada|Infantil, Conteud...|    Amazon|\n",
            "|s19|Serie|Zoë Coombs Marr: ...| Nao Declarado|           null|          2020|          18+|1 Temporada|Comedia, Entrevis...|    Amazon|\n",
            "|s20|Filme|                 Zoe| Nao Declarado|           null|          2018|     Restrito|    104 min|   Ficcao Cientifica|    Amazon|\n",
            "+---+-----+--------------------+--------------+---------------+--------------+-------------+-----------+--------------------+----------+\n",
            "only showing top 20 rows\n",
            "\n"
          ]
        }
      ]
    },
    {
      "cell_type": "markdown",
      "metadata": {
        "id": "FohfYUrBdkm8"
      },
      "source": [
        "**Programas para maiores de 13 anos Amazon**"
      ]
    },
    {
      "cell_type": "code",
      "metadata": {
        "colab": {
          "base_uri": "https://localhost:8080/"
        },
        "id": "Lf9qLsdbEfV6",
        "outputId": "97adaa98-994b-4b57-9c3e-dac29a45e366"
      },
      "source": [
        "spark.sql(\"select tipo, aplicativo, classificacao, genero from tab_3_sql where classificacao = '13+' and aplicativo = 'Amazon'\").show()"
      ],
      "execution_count": null,
      "outputs": [
        {
          "output_type": "stream",
          "name": "stdout",
          "text": [
            "+-----+----------+-------------+--------------------+\n",
            "| tipo|aplicativo|classificacao|              genero|\n",
            "+-----+----------+-------------+--------------------+\n",
            "|Filme|    Amazon|          13+|Drama, Internacional|\n",
            "|Filme|    Amazon|          13+|Terror, Ficcao Ci...|\n",
            "|Serie|    Amazon|          13+|     Acao, Ocidental|\n",
            "|Serie|    Amazon|          13+|Drama, Romance, S...|\n",
            "|Serie|    Amazon|          13+|         Improvisado|\n",
            "|Serie|    Amazon|          13+|Documentario, Mil...|\n",
            "|Filme|    Amazon|          13+|               Drama|\n",
            "|Filme|    Amazon|          13+|             Comedia|\n",
            "|Filme|    Amazon|          13+|               Drama|\n",
            "|Filme|    Amazon|          13+|               Drama|\n",
            "|Filme|    Amazon|          13+|           Ocidental|\n",
            "|Filme|    Amazon|          13+|Acao, Drama, Espo...|\n",
            "|Filme|    Amazon|          13+|Documentario, Con...|\n",
            "|Filme|    Amazon|          13+|Documentario, Con...|\n",
            "|Filme|    Amazon|          13+|Comedia, Ficcao C...|\n",
            "|Serie|    Amazon|          13+|    Drama, Ocidental|\n",
            "|Filme|    Amazon|          13+|        Documentario|\n",
            "|Filme|    Amazon|          13+|        Documentario|\n",
            "|Filme|    Amazon|          13+|               Drama|\n",
            "|Filme|    Amazon|          13+|Acao, Drama, Cont...|\n",
            "+-----+----------+-------------+--------------------+\n",
            "only showing top 20 rows\n",
            "\n"
          ]
        }
      ]
    },
    {
      "cell_type": "markdown",
      "metadata": {
        "id": "lC9bY2j7drOq"
      },
      "source": [
        "**Quantidade de filmes programas por classificação**"
      ]
    },
    {
      "cell_type": "code",
      "metadata": {
        "colab": {
          "base_uri": "https://localhost:8080/"
        },
        "id": "Uu7tr_KCMmr_",
        "outputId": "1b2b48b8-b1eb-445a-809b-8d38eda9176e"
      },
      "source": [
        "spark.sql(\"select count(aplicativo) as qtde_cont_13 from tab_3_sql where classificacao = '13+' \").show()"
      ],
      "execution_count": null,
      "outputs": [
        {
          "output_type": "stream",
          "name": "stdout",
          "text": [
            "+------------+\n",
            "|qtde_cont_13|\n",
            "+------------+\n",
            "|        3540|\n",
            "+------------+\n",
            "\n"
          ]
        }
      ]
    },
    {
      "cell_type": "markdown",
      "metadata": {
        "id": "p6f24cSUd5R_"
      },
      "source": [
        "**Programas somente para Adultos**"
      ]
    },
    {
      "cell_type": "code",
      "metadata": {
        "colab": {
          "base_uri": "https://localhost:8080/"
        },
        "id": "89rIh5GiE_Qx",
        "outputId": "03c74ae0-1918-432b-fc16-82b8c67a5c40"
      },
      "source": [
        "spark.sql(\"select tipo, aplicativo, classificacao, genero from tab_3_sql where  classificacao = 'Adultos' and aplicativo = 'Netflix'\").show()"
      ],
      "execution_count": null,
      "outputs": [
        {
          "output_type": "stream",
          "name": "stdout",
          "text": [
            "+------+----------+-------------+--------------------+\n",
            "|  tipo|aplicativo|classificacao|              genero|\n",
            "+------+----------+-------------+--------------------+\n",
            "|Séries|   Netflix|      Adultos|SériesInternacion...|\n",
            "|Séries|   Netflix|      Adultos|Programas de TV p...|\n",
            "|Séries|   Netflix|      Adultos|Docuseries, Reali...|\n",
            "|Séries|   Netflix|      Adultos|Programas de TV i...|\n",
            "|Séries|   Netflix|      Adultos|Dramas da TV, Ter...|\n",
            "|Filmes|   Netflix|      Adultos|Dramas, filmes in...|\n",
            "|Séries|   Netflix|      Adultos|Programas de TV p...|\n",
            "|Séries|   Netflix|      Adultos|Programas de TV p...|\n",
            "|Filmes|   Netflix|      Adultos|Dramas, Filmes In...|\n",
            "|Séries|   Netflix|      Adultos|Programas de TV b...|\n",
            "|Séries|   Netflix|      Adultos|Comédias de TV, D...|\n",
            "|Filmes|   Netflix|      Adultos|Documentários, Fi...|\n",
            "|Séries|   Netflix|      Adultos|Programas de TV p...|\n",
            "|Séries|   Netflix|      Adultos|Programas de TV i...|\n",
            "|Séries|   Netflix|      Adultos|         TV Comédias|\n",
            "|Séries|   Netflix|      Adultos|Programas de TV b...|\n",
            "|Séries|   Netflix|      Adultos|Programas de TV i...|\n",
            "|Filmes|   Netflix|      Adultos|Dramas, filmes in...|\n",
            "|Filmes|   Netflix|      Adultos|Ação e aventura, ...|\n",
            "|Séries|   Netflix|      Adultos|Programas de TV i...|\n",
            "+------+----------+-------------+--------------------+\n",
            "only showing top 20 rows\n",
            "\n"
          ]
        }
      ]
    },
    {
      "cell_type": "markdown",
      "metadata": {
        "id": "GM0xiwlSeEjm"
      },
      "source": [
        "**Quantidade de filmes programas por classificação**"
      ]
    },
    {
      "cell_type": "code",
      "metadata": {
        "colab": {
          "base_uri": "https://localhost:8080/"
        },
        "id": "TxnKYKjtNWVd",
        "outputId": "c56438e5-345b-47f5-e457-47d8b133b519"
      },
      "source": [
        "spark.sql(\"select count(aplicativo) as qtd_cont_adultos from tab_3_sql where classificacao = 'Adultos' and aplicativo= 'Netflix'  \").show()"
      ],
      "execution_count": null,
      "outputs": [
        {
          "output_type": "stream",
          "name": "stdout",
          "text": [
            "+----------------+\n",
            "|qtd_cont_adultos|\n",
            "+----------------+\n",
            "|            3290|\n",
            "+----------------+\n",
            "\n"
          ]
        }
      ]
    },
    {
      "cell_type": "markdown",
      "metadata": {
        "id": "RrI41AbteJG7"
      },
      "source": [
        "**Filmes lançados na pandemia**"
      ]
    },
    {
      "cell_type": "code",
      "metadata": {
        "colab": {
          "base_uri": "https://localhost:8080/"
        },
        "id": "zwiNDPn3GW61",
        "outputId": "748be072-93f2-423b-c3f0-2e5bede14eca"
      },
      "source": [
        "spark.sql(\"select tipo, aplicativo, genero, ano_lancamento from tab_3_sql where tipo = 'Filme' and ano_lancamento = 2020\").show(15)"
      ],
      "execution_count": null,
      "outputs": [
        {
          "output_type": "stream",
          "name": "stdout",
          "text": [
            "+-----+----------+--------------------+--------------+\n",
            "| tipo|aplicativo|              genero|ano_lancamento|\n",
            "+-----+----------+--------------------+--------------+\n",
            "|Filme|    Amazon|Documentario, Esp...|          2020|\n",
            "|Filme|    Amazon|               Drama|          2020|\n",
            "|Filme|    Amazon|            Infantil|          2020|\n",
            "|Filme|    Amazon|         Acao, Drama|          2020|\n",
            "|Filme|    Amazon|         Acao, Drama|          2020|\n",
            "|Filme|    Amazon|Acao, Drama, Susp...|          2020|\n",
            "|Filme|    Amazon|Acao, Drama, Susp...|          2020|\n",
            "|Filme|    Amazon|Acao, Drama, Susp...|          2020|\n",
            "|Filme|    Amazon|               Drama|          2020|\n",
            "|Filme|    Amazon|               Drama|          2020|\n",
            "|Filme|    Amazon|        Documentario|          2020|\n",
            "|Filme|    Amazon|              Terror|          2020|\n",
            "|Filme|    Amazon|      Drama, Romance|          2020|\n",
            "|Filme|    Amazon|               Drama|          2020|\n",
            "|Filme|    Amazon|Artes, Entretenim...|          2020|\n",
            "+-----+----------+--------------------+--------------+\n",
            "only showing top 15 rows\n",
            "\n"
          ]
        }
      ]
    },
    {
      "cell_type": "markdown",
      "metadata": {
        "id": "mkgioTawc9HC"
      },
      "source": [
        "**Programas de tv lançados na pandemia**"
      ]
    },
    {
      "cell_type": "code",
      "metadata": {
        "colab": {
          "base_uri": "https://localhost:8080/"
        },
        "id": "BCwwjBkLHNZm",
        "outputId": "caeb627d-3f8c-4cd4-fcb6-2fdeee09e4be"
      },
      "source": [
        "spark.sql(\"select tipo, aplicativo, genero, ano_lancamento from tab_3_sql where tipo = 'Serie' and ano_lancamento = 2020\").show(15)"
      ],
      "execution_count": null,
      "outputs": [
        {
          "output_type": "stream",
          "name": "stdout",
          "text": [
            "+-----+----------+--------------------+--------------+\n",
            "| tipo|aplicativo|              genero|ano_lancamento|\n",
            "+-----+----------+--------------------+--------------+\n",
            "|Serie|    Amazon|Comedia, Entrevis...|          2020|\n",
            "|Serie|    Amazon|Acao, Anime, Comedia|          2020|\n",
            "|Serie|    Amazon|              Series|          2020|\n",
            "|Serie|    Amazon|              Series|          2020|\n",
            "|Serie|    Amazon|Artes, Entretenim...|          2020|\n",
            "|Serie|    Amazon|         Improvisado|          2020|\n",
            "|Serie|    Amazon|Documentario, Mil...|          2020|\n",
            "|Serie|    Amazon|             Comedia|          2020|\n",
            "|Serie|    Amazon|              Series|          2020|\n",
            "|Serie|    Amazon|             Comedia|          2020|\n",
            "|Serie|    Amazon|         Acao, Drama|          2020|\n",
            "|Serie|    Amazon|     Drama, Suspense|          2020|\n",
            "|Serie|    Amazon|             Comedia|          2020|\n",
            "|Serie|    Amazon|Conteudo Especial...|          2020|\n",
            "|Serie|    Amazon|             Comedia|          2020|\n",
            "+-----+----------+--------------------+--------------+\n",
            "only showing top 15 rows\n",
            "\n"
          ]
        }
      ]
    },
    {
      "cell_type": "markdown",
      "metadata": {
        "id": "2QeQe0M20Sbi"
      },
      "source": [
        "**Filtrando as series por temporada**"
      ]
    },
    {
      "cell_type": "code",
      "metadata": {
        "colab": {
          "base_uri": "https://localhost:8080/"
        },
        "id": "JrjcuMf4HmTL",
        "outputId": "8e87460e-96ac-400b-abe5-454428954cb4"
      },
      "source": [
        "# Series\n",
        "spark.sql(\"select tipo, aplicativo, genero, duracao from tab_3_sql where duracao like '%Temporada%' order by duracao \").show()"
      ],
      "execution_count": null,
      "outputs": [
        {
          "output_type": "stream",
          "name": "stdout",
          "text": [
            "+-----+----------+--------------------+-----------+\n",
            "| tipo|aplicativo|              genero|    duracao|\n",
            "+-----+----------+--------------------+-----------+\n",
            "|Serie|    Amazon|         Improvisado|1 Temporada|\n",
            "|Serie|    Amazon|             Esporte|1 Temporada|\n",
            "|Serie|    Amazon|               Drama|1 Temporada|\n",
            "|Serie|    Amazon|Comedia, Entrevis...|1 Temporada|\n",
            "|Serie|    Amazon|Documentario, Mil...|1 Temporada|\n",
            "|Serie|    Amazon|Acao, Anime, Comedia|1 Temporada|\n",
            "|Serie|    Amazon|              Series|1 Temporada|\n",
            "|Serie|    Amazon|              Series|1 Temporada|\n",
            "|Serie|    Amazon|            Infantil|1 Temporada|\n",
            "|Serie|    Amazon|            Infantil|1 Temporada|\n",
            "|Serie|    Amazon|             Comedia|1 Temporada|\n",
            "|Serie|    Amazon|Documentario, Con...|1 Temporada|\n",
            "|Serie|    Amazon|              Series|1 Temporada|\n",
            "|Serie|    Amazon|  Animacao, Infantil|1 Temporada|\n",
            "|Serie|    Amazon|             Fitness|1 Temporada|\n",
            "|Serie|    Amazon|              Series|1 Temporada|\n",
            "|Serie|    Amazon|     Acao, Ocidental|1 Temporada|\n",
            "|Serie|    Amazon|Comedia, Document...|1 Temporada|\n",
            "|Serie|    Amazon|Aventura, Animaca...|1 Temporada|\n",
            "|Serie|    Amazon|Comedia, Document...|1 Temporada|\n",
            "+-----+----------+--------------------+-----------+\n",
            "only showing top 20 rows\n",
            "\n"
          ]
        }
      ]
    },
    {
      "cell_type": "markdown",
      "metadata": {
        "id": "V0T1sR9ped9K"
      },
      "source": [
        "**O filme mais antigo em sua pataforma**"
      ]
    },
    {
      "cell_type": "code",
      "metadata": {
        "colab": {
          "base_uri": "https://localhost:8080/"
        },
        "id": "O9pPK1umJgk_",
        "outputId": "d0101500-97a5-4070-886a-572fa25be829"
      },
      "source": [
        "spark.sql(\"select min(ano_lancamento) as lancamento_mais_antigo from tab_3_sql\").show()"
      ],
      "execution_count": null,
      "outputs": [
        {
          "output_type": "stream",
          "name": "stdout",
          "text": [
            "+----------------------+\n",
            "|lancamento_mais_antigo|\n",
            "+----------------------+\n",
            "|                  1920|\n",
            "+----------------------+\n",
            "\n"
          ]
        }
      ]
    },
    {
      "cell_type": "code",
      "metadata": {
        "id": "lwxo4NrGk-Wo",
        "colab": {
          "base_uri": "https://localhost:8080/"
        },
        "outputId": "01b0d0cc-6ed1-4bce-e59f-6cb7c81e960a"
      },
      "source": [
        "spark.sql(\"select aplicativo, titulo, ano_lancamento as lancamento_mais_antigo from tab_3_sql where ano_lancamento <=1920 \").show()"
      ],
      "execution_count": null,
      "outputs": [
        {
          "output_type": "stream",
          "name": "stdout",
          "text": [
            "+----------+-------------------+----------------------+\n",
            "|aplicativo|             titulo|lancamento_mais_antigo|\n",
            "+----------+-------------------+----------------------+\n",
            "|    Amazon|   Within Our Gates|                  1920|\n",
            "|    Amazon|          Pollyanna|                  1920|\n",
            "|    Amazon|Nomads Of The North|                  1920|\n",
            "+----------+-------------------+----------------------+\n",
            "\n"
          ]
        }
      ]
    },
    {
      "cell_type": "markdown",
      "metadata": {
        "id": "PJLjJjzrepaR"
      },
      "source": [
        "**quantidades de series lançados na pandemia em 2020**"
      ]
    },
    {
      "cell_type": "code",
      "metadata": {
        "colab": {
          "base_uri": "https://localhost:8080/"
        },
        "id": "BKbG0KoylnNY",
        "outputId": "772ad94c-4423-440e-d71d-d3524906768f"
      },
      "source": [
        "spark.sql(\"select count(ano_lancamento) as qtd_pandemia_serie from tab_3_sql where ano_lancamento = 2020  and tipo = 'Serie' or tipo = 'Series'\"  ).show()"
      ],
      "execution_count": null,
      "outputs": [
        {
          "output_type": "stream",
          "name": "stdout",
          "text": [
            "+------------------+\n",
            "|qtd_pandemia_serie|\n",
            "+------------------+\n",
            "|               226|\n",
            "+------------------+\n",
            "\n"
          ]
        }
      ]
    },
    {
      "cell_type": "markdown",
      "metadata": {
        "id": "AFncTy-2e8nN"
      },
      "source": [
        "**quantidades de series lançados na pandemia em 2021**"
      ]
    },
    {
      "cell_type": "code",
      "metadata": {
        "colab": {
          "base_uri": "https://localhost:8080/"
        },
        "id": "e0U-P7vdmiae",
        "outputId": "187857c8-17e9-43cd-f573-74de217a0935"
      },
      "source": [
        "spark.sql(\"select count(ano_lancamento) as qtd_pandemia_serie from tab_3_sql where ano_lancamento = 2021  and tipo = 'Serie' or tipo = 'Series'\"  ).show()"
      ],
      "execution_count": null,
      "outputs": [
        {
          "output_type": "stream",
          "name": "stdout",
          "text": [
            "+------------------+\n",
            "|qtd_pandemia_serie|\n",
            "+------------------+\n",
            "|               303|\n",
            "+------------------+\n",
            "\n"
          ]
        }
      ]
    },
    {
      "cell_type": "markdown",
      "metadata": {
        "id": "iAlHaZB9e_Ma"
      },
      "source": [
        "**quantidades de Filmes lançados na pandemia em 2020**"
      ]
    },
    {
      "cell_type": "code",
      "metadata": {
        "colab": {
          "base_uri": "https://localhost:8080/"
        },
        "id": "vG7DgLV9m5th",
        "outputId": "4dfa1686-1eac-45e5-dd9d-7dfd5a8ebd9b"
      },
      "source": [
        "spark.sql(\"select count(ano_lancamento) as qtd_pandemia_filme from tab_3_sql where ano_lancamento = 2020  and tipo = 'Filme' or tipo = 'Filmes'\"  ).show()"
      ],
      "execution_count": null,
      "outputs": [
        {
          "output_type": "stream",
          "name": "stdout",
          "text": [
            "+------------------+\n",
            "|qtd_pandemia_filme|\n",
            "+------------------+\n",
            "|              6866|\n",
            "+------------------+\n",
            "\n"
          ]
        }
      ]
    },
    {
      "cell_type": "markdown",
      "metadata": {
        "id": "GHR2vNemfEnr"
      },
      "source": [
        "**quantidades de Filmes lançados na pandemia em 2021**"
      ]
    },
    {
      "cell_type": "code",
      "metadata": {
        "colab": {
          "base_uri": "https://localhost:8080/"
        },
        "id": "UD0sm7FGnAfa",
        "outputId": "072fc8f7-5305-432c-ec81-f54791a30477"
      },
      "source": [
        "spark.sql(\"select count(ano_lancamento) as qtd_pandemia_filme from tab_3_sql where ano_lancamento = 2021  and tipo = 'Filme' or tipo = 'Filmes'\"  ).show()"
      ],
      "execution_count": null,
      "outputs": [
        {
          "output_type": "stream",
          "name": "stdout",
          "text": [
            "+------------------+\n",
            "|qtd_pandemia_filme|\n",
            "+------------------+\n",
            "|              7269|\n",
            "+------------------+\n",
            "\n"
          ]
        }
      ]
    }
  ]
}