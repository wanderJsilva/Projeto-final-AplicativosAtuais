{
  "nbformat": 4,
  "nbformat_minor": 0,
  "metadata": {
    "colab": {
      "name": "PySpark_Netflix_ProjetoFinal.ipynb",
      "provenance": []
    },
    "kernelspec": {
      "name": "python3",
      "display_name": "Python 3"
    },
    "language_info": {
      "name": "python"
    }
  },
  "cells": [
    {
      "cell_type": "markdown",
      "metadata": {
        "id": "vyXHYv5M7COD"
      },
      "source": [
        "**instalando PySpark e importando Bibliotecas**"
      ]
    },
    {
      "cell_type": "code",
      "metadata": {
        "colab": {
          "base_uri": "https://localhost:8080/"
        },
        "id": "6uE3rERYz8tX",
        "outputId": "79a99b2d-b135-4f45-f5cc-5bb661c101c7"
      },
      "source": [
        "!pip install pyspark"
      ],
      "execution_count": null,
      "outputs": [
        {
          "output_type": "stream",
          "name": "stdout",
          "text": [
            "Requirement already satisfied: pyspark in /usr/local/lib/python3.7/dist-packages (3.2.0)\n",
            "Requirement already satisfied: py4j==0.10.9.2 in /usr/local/lib/python3.7/dist-packages (from pyspark) (0.10.9.2)\n"
          ]
        }
      ]
    },
    {
      "cell_type": "code",
      "metadata": {
        "id": "j8F_U5CHX_MU"
      },
      "source": [
        "from pyspark.sql import SparkSession\n",
        "import pyspark.sql.functions as F\n",
        "from pyspark.sql.types import StructType, StructField, StringType, IntegerType\n",
        "from pyspark.sql.window import Window\n",
        "import pandas as pd     "
      ],
      "execution_count": null,
      "outputs": []
    },
    {
      "cell_type": "code",
      "metadata": {
        "id": "EfLhjj0VYP8r"
      },
      "source": [
        "spark = (\n",
        "    SparkSession.builder\n",
        "      .master('local')\n",
        "      .appName('dataframe_withcolumn')\n",
        "      .config('spark.ui.port', '4050')\n",
        "      .getOrCreate()\n",
        ")"
      ],
      "execution_count": null,
      "outputs": []
    },
    {
      "cell_type": "code",
      "metadata": {
        "id": "EUIVdFkQYSML"
      },
      "source": [
        "esquema = [\"id\", \"tipo\", \"titulo\", \"país\", \"data_adicionado\" ,\"ano_lancamento\",\"classificacao\",\"duracao\",\"genero\"]\n",
        "netflix_df = (spark\n",
        "       .read\n",
        "       .format(\"csv\")\n",
        "       .option(\"header\", \"true\")\n",
        "       .option(\"inferschema\", \"false\")\n",
        "       .option(\"delimiter\", \",\")\n",
        "       .load(\"/content/netflix_tratado.csv\").toDF(*esquema)\n",
        "       )"
      ],
      "execution_count": null,
      "outputs": []
    },
    {
      "cell_type": "code",
      "metadata": {
        "colab": {
          "base_uri": "https://localhost:8080/",
          "height": 219
        },
        "id": "t5SN9ZTNJmnG",
        "outputId": "697afe39-78ee-49e1-f3ac-d36bac8d2d61"
      },
      "source": [
        "spark"
      ],
      "execution_count": null,
      "outputs": [
        {
          "output_type": "execute_result",
          "data": {
            "text/html": [
              "\n",
              "            <div>\n",
              "                <p><b>SparkSession - in-memory</b></p>\n",
              "                \n",
              "        <div>\n",
              "            <p><b>SparkContext</b></p>\n",
              "\n",
              "            <p><a href=\"http://42c703f53bd2:4050\">Spark UI</a></p>\n",
              "\n",
              "            <dl>\n",
              "              <dt>Version</dt>\n",
              "                <dd><code>v3.2.0</code></dd>\n",
              "              <dt>Master</dt>\n",
              "                <dd><code>local</code></dd>\n",
              "              <dt>AppName</dt>\n",
              "                <dd><code>dataframe_withcolumn</code></dd>\n",
              "            </dl>\n",
              "        </div>\n",
              "        \n",
              "            </div>\n",
              "        "
            ],
            "text/plain": [
              "<pyspark.sql.session.SparkSession at 0x7faca05e6790>"
            ]
          },
          "metadata": {},
          "execution_count": 140
        }
      ]
    },
    {
      "cell_type": "markdown",
      "metadata": {
        "id": "nXFdzt-Lipcu"
      },
      "source": [
        "**Exibindo o esquema do dataframe**"
      ]
    },
    {
      "cell_type": "code",
      "metadata": {
        "colab": {
          "base_uri": "https://localhost:8080/"
        },
        "id": "lz_WpBiDYY5z",
        "outputId": "30894a78-1c73-44cc-e994-a4c2fbd415c5"
      },
      "source": [
        "netflix_df.printSchema()"
      ],
      "execution_count": null,
      "outputs": [
        {
          "output_type": "stream",
          "name": "stdout",
          "text": [
            "root\n",
            " |-- id: string (nullable = true)\n",
            " |-- tipo: string (nullable = true)\n",
            " |-- titulo: string (nullable = true)\n",
            " |-- país: string (nullable = true)\n",
            " |-- data_adicionado: string (nullable = true)\n",
            " |-- ano_lancamento: string (nullable = true)\n",
            " |-- classificacao: string (nullable = true)\n",
            " |-- duracao: string (nullable = true)\n",
            " |-- genero: string (nullable = true)\n",
            "\n"
          ]
        }
      ]
    },
    {
      "cell_type": "code",
      "metadata": {
        "colab": {
          "base_uri": "https://localhost:8080/"
        },
        "id": "ct8tvgnHDIrr",
        "outputId": "731d8eb6-e9f4-4b44-9302-2301f422135a"
      },
      "source": [
        "netflix_df"
      ],
      "execution_count": null,
      "outputs": [
        {
          "output_type": "execute_result",
          "data": {
            "text/plain": [
              "DataFrame[id: string, tipo: string, titulo: string, país: string, data_adicionado: string, ano_lancamento: string, classificacao: string, duracao: string, genero: string]"
            ]
          },
          "metadata": {},
          "execution_count": 142
        }
      ]
    },
    {
      "cell_type": "markdown",
      "metadata": {
        "id": "UhUIUcq2Cma3"
      },
      "source": [
        "\n",
        " **Quantidade de títulos disponibilizados pela netflix**"
      ]
    },
    {
      "cell_type": "code",
      "metadata": {
        "colab": {
          "base_uri": "https://localhost:8080/"
        },
        "id": "Q43elmvFuFBb",
        "outputId": "083acaf0-602c-46cb-80ed-9f26218c7337"
      },
      "source": [
        "netflix_df.groupby(F.col(\"tipo\")).count()"
      ],
      "execution_count": null,
      "outputs": [
        {
          "output_type": "execute_result",
          "data": {
            "text/plain": [
              "DataFrame[tipo: string, count: bigint]"
            ]
          },
          "metadata": {},
          "execution_count": 143
        }
      ]
    },
    {
      "cell_type": "markdown",
      "metadata": {
        "id": "kTEm15_T_IGn"
      },
      "source": [
        "**Separamos os dados que dizem respeito ao público Infantil**"
      ]
    },
    {
      "cell_type": "code",
      "metadata": {
        "id": "y8lZW7ZOQyVU"
      },
      "source": [
        "dfinfantil = netflix_df.filter(F.col('classificacao')=='Infantil')"
      ],
      "execution_count": null,
      "outputs": []
    },
    {
      "cell_type": "markdown",
      "metadata": {
        "id": "_IluH2u1t55i"
      },
      "source": [
        "**Separamos os dados que dizem respeito ao público Adulto**"
      ]
    },
    {
      "cell_type": "code",
      "metadata": {
        "id": "UlyRM_R2yB3S"
      },
      "source": [
        "dfadultos = netflix_df.filter(F.col('classificacao')=='Adultos')"
      ],
      "execution_count": null,
      "outputs": []
    },
    {
      "cell_type": "markdown",
      "metadata": {
        "id": "BFpBHv4N_r18"
      },
      "source": [
        "**Mostra quantos lançamentos teve em cada ano, Demonstrando um aumento grande na produção ou disponibilização de novos filmes.**"
      ]
    },
    {
      "cell_type": "code",
      "metadata": {
        "colab": {
          "base_uri": "https://localhost:8080/"
        },
        "id": "clLhv6DTn_Q8",
        "outputId": "378c458f-c35b-44d0-882b-9aacb0bd58c8"
      },
      "source": [
        "netflix_df.groupBy('ano_lancamento').count().sort('count', ascending=False)"
      ],
      "execution_count": null,
      "outputs": [
        {
          "output_type": "execute_result",
          "data": {
            "text/plain": [
              "DataFrame[ano_lancamento: string, count: bigint]"
            ]
          },
          "metadata": {},
          "execution_count": 146
        }
      ]
    },
    {
      "cell_type": "code",
      "metadata": {
        "colab": {
          "base_uri": "https://localhost:8080/"
        },
        "id": "Pqkvh65FcUmU",
        "outputId": "0b4f389e-a7fa-46d3-ff85-616a9dd86270"
      },
      "source": [
        "w1 = Window.partitionBy(F.col('ano_lancamento')).orderBy('ano_lancamento')\n",
        "netflix_df.groupby(F.col('ano_lancamento')).count()\n",
        "netflix_df.withColumn('rank', F.rank().over(w1))"
      ],
      "execution_count": null,
      "outputs": [
        {
          "output_type": "execute_result",
          "data": {
            "text/plain": [
              "DataFrame[id: string, tipo: string, titulo: string, país: string, data_adicionado: string, ano_lancamento: string, classificacao: string, duracao: string, genero: string, rank: int]"
            ]
          },
          "metadata": {},
          "execution_count": 147
        }
      ]
    },
    {
      "cell_type": "markdown",
      "metadata": {
        "id": "c53Ii9S3ouYs"
      },
      "source": [
        "**Mostra quantos Filmes Series a netflix disponibilizou em sua plataforma nos últimos anos.**"
      ]
    },
    {
      "cell_type": "code",
      "metadata": {
        "colab": {
          "base_uri": "https://localhost:8080/"
        },
        "id": "SnEowtENoyic",
        "outputId": "03ae5643-4809-4def-c3c6-3a1458276039"
      },
      "source": [
        "netflix_df.groupBy('data_adicionado').count().sort('count', ascending=False)"
      ],
      "execution_count": null,
      "outputs": [
        {
          "output_type": "execute_result",
          "data": {
            "text/plain": [
              "DataFrame[data_adicionado: string, count: bigint]"
            ]
          },
          "metadata": {},
          "execution_count": 148
        }
      ]
    },
    {
      "cell_type": "markdown",
      "metadata": {
        "id": "hgKJTxaj3bFb"
      },
      "source": [
        "**Aumento significativo nos ultimos anos**"
      ]
    },
    {
      "cell_type": "code",
      "metadata": {
        "colab": {
          "base_uri": "https://localhost:8080/"
        },
        "id": "OdbYRtCazS5R",
        "outputId": "cf9f9573-4def-4b0c-b926-cfbedce8c3bf"
      },
      "source": [
        "netflix_df.filter(F.col('ano_lancamento').like('2018')).count()"
      ],
      "execution_count": null,
      "outputs": [
        {
          "output_type": "execute_result",
          "data": {
            "text/plain": [
              "1147"
            ]
          },
          "metadata": {},
          "execution_count": 149
        }
      ]
    },
    {
      "cell_type": "code",
      "metadata": {
        "colab": {
          "base_uri": "https://localhost:8080/"
        },
        "id": "hHtbpRI2FDjX",
        "outputId": "a6371742-358b-485c-e810-2394a7a3b229"
      },
      "source": [
        "netflix_df.filter(F.col('ano_lancamento').like('2019')).count()"
      ],
      "execution_count": null,
      "outputs": [
        {
          "output_type": "execute_result",
          "data": {
            "text/plain": [
              "1030"
            ]
          },
          "metadata": {},
          "execution_count": 150
        }
      ]
    },
    {
      "cell_type": "code",
      "metadata": {
        "colab": {
          "base_uri": "https://localhost:8080/"
        },
        "id": "2qrXHTVTHZDI",
        "outputId": "ce329e4b-d0ea-4b86-c172-407750ee547f"
      },
      "source": [
        "netflix_df.filter(F.col('ano_lancamento').like('2020')).count()"
      ],
      "execution_count": null,
      "outputs": [
        {
          "output_type": "execute_result",
          "data": {
            "text/plain": [
              "953"
            ]
          },
          "metadata": {},
          "execution_count": 151
        }
      ]
    },
    {
      "cell_type": "code",
      "metadata": {
        "colab": {
          "base_uri": "https://localhost:8080/"
        },
        "id": "KciJL8bqHXZn",
        "outputId": "c0789c3a-c26c-4765-b3c7-bbfeaf1edaf2"
      },
      "source": [
        "netflix_df.filter(F.col('ano_lancamento').like('2021')).count()"
      ],
      "execution_count": null,
      "outputs": [
        {
          "output_type": "execute_result",
          "data": {
            "text/plain": [
              "592"
            ]
          },
          "metadata": {},
          "execution_count": 152
        }
      ]
    },
    {
      "cell_type": "markdown",
      "metadata": {
        "id": "upH5gh-AGLzq"
      },
      "source": [
        "**Exibindo o título e generos apenas dos Filmes**"
      ]
    },
    {
      "cell_type": "code",
      "metadata": {
        "colab": {
          "base_uri": "https://localhost:8080/"
        },
        "id": "SIoHfKNLsAwL",
        "outputId": "1865ee1d-5818-40d5-d505-7386c78489e7"
      },
      "source": [
        "netflix_df.select(F.col(\"ano_lancamento\"),F.col(\"titulo\"),F.col(\"tipo\"),F.col(\"genero\")).filter(\"tipo = 'Filmes'\")"
      ],
      "execution_count": null,
      "outputs": [
        {
          "output_type": "execute_result",
          "data": {
            "text/plain": [
              "DataFrame[ano_lancamento: string, titulo: string, tipo: string, genero: string]"
            ]
          },
          "metadata": {},
          "execution_count": 153
        }
      ]
    },
    {
      "cell_type": "markdown",
      "metadata": {
        "id": "ne2-90WTZCsA"
      },
      "source": [
        "**Exibindo o título e generos apenas das Series**"
      ]
    },
    {
      "cell_type": "code",
      "metadata": {
        "id": "bY7XPIXoN2dx",
        "colab": {
          "base_uri": "https://localhost:8080/"
        },
        "outputId": "f571877f-9424-44b0-93a1-113bb4a7bbc0"
      },
      "source": [
        "netflix_df.select(F.col(\"ano_lancamento\"),F.col(\"titulo\"),F.col(\"tipo\"),F.col(\"genero\")).filter(\"tipo = 'Séries'\")"
      ],
      "execution_count": null,
      "outputs": [
        {
          "output_type": "execute_result",
          "data": {
            "text/plain": [
              "DataFrame[ano_lancamento: string, titulo: string, tipo: string, genero: string]"
            ]
          },
          "metadata": {},
          "execution_count": 154
        }
      ]
    },
    {
      "cell_type": "markdown",
      "metadata": {
        "id": "SGQ7qm0xOq7b"
      },
      "source": [
        "**adicionamos uma coluna tempo para analisar a duração dos conteúdos mais assistidos**"
      ]
    },
    {
      "cell_type": "code",
      "metadata": {
        "colab": {
          "base_uri": "https://localhost:8080/"
        },
        "id": "xc0vXi0wPWlE",
        "outputId": "5a39215c-10e1-4ff8-d5cd-d85dd6932167"
      },
      "source": [
        "from pyspark.sql.functions import regexp_replace\n",
        "netflix_df.withColumn('tempo', regexp_replace('duracao', 'min', '')).show(truncate=False)"
      ],
      "execution_count": null,
      "outputs": [
        {
          "output_type": "stream",
          "name": "stdout",
          "text": [
            "+---+------+---------------------------------------------------+------------------------------------------------------------------+---------------+--------------+-------------+------------+----------------------------------------------------------------------------------+------------+\n",
            "|id |tipo  |titulo                                             |país                                                              |data_adicionado|ano_lancamento|classificacao|duracao     |genero                                                                            |tempo       |\n",
            "+---+------+---------------------------------------------------+------------------------------------------------------------------+---------------+--------------+-------------+------------+----------------------------------------------------------------------------------+------------+\n",
            "|s1 |Filmes|Dick Johnson Is Dead                               |Estados Unidos                                                    |2021-09-25     |2020          |13+          |90 min      |Documentarios                                                                     |90          |\n",
            "|s2 |Séries|Blood & Water                                      |África do Sul                                                     |2021-09-24     |2021          |Adultos      |2 Temporadas|SériesInternacionais, Dramas e Misterios                                          |2 Temporadas|\n",
            "|s3 |Séries|Ganglands                                          |Nao Declarado                                                     |2021-09-24     |2021          |Adultos      |1 Temporada |Programas de TV policiais, programas de TV internacionais, ação e aventura na TV  |1 Temporada |\n",
            "|s4 |Séries|Jailbirds New Orleans                              |Nao Declarado                                                     |2021-09-24     |2021          |Adultos      |1 Temporada |Docuseries, Reality TV                                                            |1 Temporada |\n",
            "|s5 |Séries|Kota Factory                                       |Índia                                                             |2021-09-24     |2021          |Adultos      |2 Temporadas|Programas de TV internacionais, programas de TV românticos, comédias de TV        |2 Temporadas|\n",
            "|s6 |Séries|Midnight Mass                                      |Nao Declarado                                                     |2021-09-24     |2021          |Adultos      |1 Temporada |Dramas da TV, Terror da TV, Mistérios da TV                                       |1 Temporada |\n",
            "|s7 |Filmes|My Little Pony: A New Generation                   |Nao Declarado                                                     |2021-09-24     |2021          |13+          |91 min      |Crianças e Filmes de Família                                                      |91          |\n",
            "|s8 |Filmes|Sankofa                                            |Estados Unidos, Gana, Burkina Faso, Reino Unido, Alemanha, Etiópia|2021-09-24     |1993          |Adultos      |125 min     |Dramas, filmes independentes, filmes internacionais                               |125         |\n",
            "|s9 |Séries|The Great British Baking Show                      |Reino Unido                                                       |2021-09-24     |2021          |14+          |9 Temporadas|Programas de TV britânicos, Reality TV                                            |9 Temporadas|\n",
            "|s10|Filmes|The Starling                                       |Estados Unidos                                                    |2021-09-24     |2021          |13+          |104 min     |Comédias, Dramas                                                                  |104         |\n",
            "|s11|Séries|Vendetta: Truth, Lies and The Mafia                |Nao Declarado                                                     |2021-09-24     |2021          |Adultos      |1 Temporada |Programas de TV policiais, documentários, programas de TV internacionais          |1 Temporada |\n",
            "|s12|Séries|Bangkok Breaking                                   |Nao Declarado                                                     |2021-09-23     |2021          |Adultos      |1 Temporada |Programas de TV policiais, programas de TV internacionais, ação e aventura na TV  |1 Temporada |\n",
            "|s13|Filmes|Je Suis Karl                                       | Alemanha, República Tcheca                                       |2021-09-23     |2021          |Adultos      |127 min     |Dramas, Filmes Internacionais                                                     |127         |\n",
            "|s14|Filmes|Confessions of an Invisible Girl                   |Nao Declarado                                                     |2021-09-22     |2021          |7+           |91 min      |Filmes infantis e familiares, comédias                                            |91          |\n",
            "|s15|Séries|Crime Stories: India Detectives                    |Nao Declarado                                                     |2021-09-22     |2021          |Adultos      |1 Temporada |Programas de TV britânicos, programas de TV sobre crimes, documentários           |1 Temporada |\n",
            "|s16|Séries|Dear White People                                  |Estados Unidos                                                    |2021-09-22     |2021          |Adultos      |4 Temporadas|Comédias de TV, Dramas de TV                                                      |4 Temporadas|\n",
            "|s17|Filmes|Europe's Most Dangerous Man: Otto Skorzeny in Spain|Nao Declarado                                                     |2021-09-22     |2020          |Adultos      |67 min      |Documentários, Filmes Internacionais                                              |67          |\n",
            "|s18|Séries|Falsa identidad                                    | México                                                           |2021-09-22     |2020          |Adultos      |2 Temporadas|Programas de TV policiais, programas de TV em espanhol, dramas de TV              |2 Temporadas|\n",
            "|s19|Filmes|Intrusion                                          |Nao Declarado                                                     |2021-09-22     |2021          |14+          |94 min      |Filmes de suspense                                                                |94          |\n",
            "|s20|Séries|Jaguar                                             |Nao Declarado                                                     |2021-09-22     |2021          |Adultos      |1 Temporada |Programas de TV internacionais, programas de TV em espanhol, ação e aventura na TV|1 Temporada |\n",
            "+---+------+---------------------------------------------------+------------------------------------------------------------------+---------------+--------------+-------------+------------+----------------------------------------------------------------------------------+------------+\n",
            "only showing top 20 rows\n",
            "\n"
          ]
        }
      ]
    },
    {
      "cell_type": "markdown",
      "metadata": {
        "id": "4VuTx1EGacrq"
      },
      "source": [
        "**criando uma coluna Para identificar a plataforma netflix para fazermos junção á plataforma concorrente**"
      ]
    },
    {
      "cell_type": "code",
      "metadata": {
        "id": "K3SuY6odCPny"
      },
      "source": [
        "valorN = 'Netflix'\n",
        "netflix_df = netflix_df.withColumn(\"aplicativo\", F.lit(valorN))"
      ],
      "execution_count": null,
      "outputs": []
    },
    {
      "cell_type": "markdown",
      "metadata": {
        "id": "QNTzfJKJToyS"
      },
      "source": [
        "**Convertendo arquivo em pandas e salvando em CSV**"
      ]
    },
    {
      "cell_type": "code",
      "metadata": {
        "id": "0m317EUb9Wk3"
      },
      "source": [
        "netflix_conv =netflix_df.toPandas()"
      ],
      "execution_count": null,
      "outputs": []
    },
    {
      "cell_type": "code",
      "metadata": {
        "id": "iApp30QFhl_3"
      },
      "source": [
        "netflix_conv.to_csv('netflix_trat.csv',index=False)"
      ],
      "execution_count": null,
      "outputs": []
    },
    {
      "cell_type": "markdown",
      "metadata": {
        "id": "tDzTyXmfVJS1"
      },
      "source": [
        "# Criando uma nova tabela para consulta"
      ]
    },
    {
      "cell_type": "code",
      "metadata": {
        "id": "kLQueBK2VcxK"
      },
      "source": [
        "import pandas as pd"
      ],
      "execution_count": null,
      "outputs": []
    },
    {
      "cell_type": "code",
      "metadata": {
        "id": "R4cntTZnVn_G"
      },
      "source": [
        "netflix_df = pd.read_csv('/content/netflix_trat.csv')\n",
        "amazon_df = pd.read_csv('/content/Amazon_trat.csv')"
      ],
      "execution_count": null,
      "outputs": []
    },
    {
      "cell_type": "markdown",
      "metadata": {
        "id": "Dm__EzF1VwYD"
      },
      "source": [
        "Criando a tabela resultante da junção de dados da Amazon e da Netflix"
      ]
    },
    {
      "cell_type": "code",
      "metadata": {
        "colab": {
          "base_uri": "https://localhost:8080/",
          "height": 684
        },
        "id": "7vdRv_OEV0iY",
        "outputId": "55d5cbe6-ed84-4d64-f198-7e9328bff178"
      },
      "source": [
        "amazon_netflix = pd.concat([amazon_df, netflix_df])\n",
        "amazon_netflix"
      ],
      "execution_count": null,
      "outputs": [
        {
          "output_type": "execute_result",
          "data": {
            "text/html": [
              "<div>\n",
              "<style scoped>\n",
              "    .dataframe tbody tr th:only-of-type {\n",
              "        vertical-align: middle;\n",
              "    }\n",
              "\n",
              "    .dataframe tbody tr th {\n",
              "        vertical-align: top;\n",
              "    }\n",
              "\n",
              "    .dataframe thead th {\n",
              "        text-align: right;\n",
              "    }\n",
              "</style>\n",
              "<table border=\"1\" class=\"dataframe\">\n",
              "  <thead>\n",
              "    <tr style=\"text-align: right;\">\n",
              "      <th></th>\n",
              "      <th>id</th>\n",
              "      <th>tipo</th>\n",
              "      <th>titulo</th>\n",
              "      <th>país</th>\n",
              "      <th>data_adicionado</th>\n",
              "      <th>ano_lancamento</th>\n",
              "      <th>classificacao</th>\n",
              "      <th>duracao</th>\n",
              "      <th>genero</th>\n",
              "      <th>aplicativo</th>\n",
              "    </tr>\n",
              "  </thead>\n",
              "  <tbody>\n",
              "    <tr>\n",
              "      <th>0</th>\n",
              "      <td>s1</td>\n",
              "      <td>Filme</td>\n",
              "      <td>A Grande Sedução</td>\n",
              "      <td>Canada</td>\n",
              "      <td>2021-03-30</td>\n",
              "      <td>2014</td>\n",
              "      <td>Nao avaliado</td>\n",
              "      <td>113 min</td>\n",
              "      <td>Comedia, Drama</td>\n",
              "      <td>Amazon</td>\n",
              "    </tr>\n",
              "    <tr>\n",
              "      <th>1</th>\n",
              "      <td>s2</td>\n",
              "      <td>Filme</td>\n",
              "      <td>Cuide da boa noite</td>\n",
              "      <td>India</td>\n",
              "      <td>2021-03-30</td>\n",
              "      <td>2018</td>\n",
              "      <td>13+</td>\n",
              "      <td>110 min</td>\n",
              "      <td>Drama, Internacional</td>\n",
              "      <td>Amazon</td>\n",
              "    </tr>\n",
              "    <tr>\n",
              "      <th>2</th>\n",
              "      <td>s3</td>\n",
              "      <td>Filme</td>\n",
              "      <td>Segredos da Decepção</td>\n",
              "      <td>Estados Unidos</td>\n",
              "      <td>2021-03-30</td>\n",
              "      <td>2017</td>\n",
              "      <td>Nao avaliado</td>\n",
              "      <td>74 min</td>\n",
              "      <td>Acao, Drama, Suspense</td>\n",
              "      <td>Amazon</td>\n",
              "    </tr>\n",
              "    <tr>\n",
              "      <th>3</th>\n",
              "      <td>s4</td>\n",
              "      <td>Filme</td>\n",
              "      <td>Rosa: Mantendo-se Verdadeiro</td>\n",
              "      <td>Estados Unidos</td>\n",
              "      <td>2021-03-30</td>\n",
              "      <td>2014</td>\n",
              "      <td>Nao avaliado</td>\n",
              "      <td>69 min</td>\n",
              "      <td>Documentario</td>\n",
              "      <td>Amazon</td>\n",
              "    </tr>\n",
              "    <tr>\n",
              "      <th>4</th>\n",
              "      <td>s5</td>\n",
              "      <td>Filme</td>\n",
              "      <td>Criador de Monstros</td>\n",
              "      <td>Reino Unido</td>\n",
              "      <td>2021-03-30</td>\n",
              "      <td>1989</td>\n",
              "      <td>Nao avaliado</td>\n",
              "      <td>45 min</td>\n",
              "      <td>Drama, Fantasia</td>\n",
              "      <td>Amazon</td>\n",
              "    </tr>\n",
              "    <tr>\n",
              "      <th>...</th>\n",
              "      <td>...</td>\n",
              "      <td>...</td>\n",
              "      <td>...</td>\n",
              "      <td>...</td>\n",
              "      <td>...</td>\n",
              "      <td>...</td>\n",
              "      <td>...</td>\n",
              "      <td>...</td>\n",
              "      <td>...</td>\n",
              "      <td>...</td>\n",
              "    </tr>\n",
              "    <tr>\n",
              "      <th>8801</th>\n",
              "      <td>s8803</td>\n",
              "      <td>Filmes</td>\n",
              "      <td>Zodiac</td>\n",
              "      <td>Estados Unidos</td>\n",
              "      <td>2019-11-20</td>\n",
              "      <td>2007</td>\n",
              "      <td>Restrito</td>\n",
              "      <td>158 min</td>\n",
              "      <td>Filmes de culto, dramas, suspense</td>\n",
              "      <td>Netflix</td>\n",
              "    </tr>\n",
              "    <tr>\n",
              "      <th>8802</th>\n",
              "      <td>s8804</td>\n",
              "      <td>Séries</td>\n",
              "      <td>Zombie Dumb</td>\n",
              "      <td>Nao Declarado</td>\n",
              "      <td>2019-07-01</td>\n",
              "      <td>2018</td>\n",
              "      <td>7+</td>\n",
              "      <td>2 Temporadas</td>\n",
              "      <td>TV infantil, programas de TV coreanos, comédia...</td>\n",
              "      <td>Netflix</td>\n",
              "    </tr>\n",
              "    <tr>\n",
              "      <th>8803</th>\n",
              "      <td>s8805</td>\n",
              "      <td>Filmes</td>\n",
              "      <td>Zombieland</td>\n",
              "      <td>Estados Unidos</td>\n",
              "      <td>2019-11-01</td>\n",
              "      <td>2009</td>\n",
              "      <td>Restrito</td>\n",
              "      <td>88 min</td>\n",
              "      <td>Comédias, Filmes de Terror</td>\n",
              "      <td>Netflix</td>\n",
              "    </tr>\n",
              "    <tr>\n",
              "      <th>8804</th>\n",
              "      <td>s8806</td>\n",
              "      <td>Filmes</td>\n",
              "      <td>Zoom</td>\n",
              "      <td>Estados Unidos</td>\n",
              "      <td>2020-01-11</td>\n",
              "      <td>2006</td>\n",
              "      <td>13+</td>\n",
              "      <td>88 min</td>\n",
              "      <td>Filmes infantis e familiares, comédias</td>\n",
              "      <td>Netflix</td>\n",
              "    </tr>\n",
              "    <tr>\n",
              "      <th>8805</th>\n",
              "      <td>s8807</td>\n",
              "      <td>Filmes</td>\n",
              "      <td>Zubaan</td>\n",
              "      <td>Índia</td>\n",
              "      <td>2019-03-02</td>\n",
              "      <td>2015</td>\n",
              "      <td>14+</td>\n",
              "      <td>111 min</td>\n",
              "      <td>Dramas, filmes internacionais, música e musicais</td>\n",
              "      <td>Netflix</td>\n",
              "    </tr>\n",
              "  </tbody>\n",
              "</table>\n",
              "<p>18474 rows × 10 columns</p>\n",
              "</div>"
            ],
            "text/plain": [
              "         id  ... aplicativo\n",
              "0        s1  ...     Amazon\n",
              "1        s2  ...     Amazon\n",
              "2        s3  ...     Amazon\n",
              "3        s4  ...     Amazon\n",
              "4        s5  ...     Amazon\n",
              "...     ...  ...        ...\n",
              "8801  s8803  ...    Netflix\n",
              "8802  s8804  ...    Netflix\n",
              "8803  s8805  ...    Netflix\n",
              "8804  s8806  ...    Netflix\n",
              "8805  s8807  ...    Netflix\n",
              "\n",
              "[18474 rows x 10 columns]"
            ]
          },
          "metadata": {},
          "execution_count": 162
        }
      ]
    },
    {
      "cell_type": "markdown",
      "metadata": {
        "id": "mEy7fDV0WhV0"
      },
      "source": [
        "**Salvando a 3° tabela em csv**\n"
      ]
    },
    {
      "cell_type": "code",
      "metadata": {
        "id": "SJsG2p7WWhBc"
      },
      "source": [
        "amazon_netflix.to_csv('Amazon_netflix.csv',index=False)"
      ],
      "execution_count": null,
      "outputs": []
    }
  ]
}